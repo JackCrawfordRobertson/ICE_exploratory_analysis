{
 "cells": [
  {
   "cell_type": "code",
   "execution_count": 46,
   "metadata": {},
   "outputs": [],
   "source": [
    "import pandas as pd\n",
    "\n",
    "# Load the CSV file\n",
    "df = pd.read_csv('../data/ICE24_responses.csv')"
   ]
  },
  {
   "cell_type": "code",
   "execution_count": 47,
   "metadata": {},
   "outputs": [
    {
     "name": "stdout",
     "output_type": "stream",
     "text": [
      "Index(['Colomb_1',\n",
      "       'Do you identify more as: An Event Strategist (involved in high-level planning, creative and decision making) or An Event Deliverer (focused on logistics and execution)',\n",
      "       'Other', 'What best describes your job role?', 'Other.1',\n",
      "       'Attendee Satisfaction', 'Number of attendees', 'Lead Generation',\n",
      "       'Social Media Engagement', 'Post-Event Surveys',\n",
      "       'User activity of event app', 'Net promoter score', 'Use of event app',\n",
      "       'Content performance', 'Other.2',\n",
      "       'Who is responsible for setting the event budget?', 'Other.3',\n",
      "       'Who is responsible for tracking the commercial follow-up of events in your organisation?',\n",
      "       'Other.4',\n",
      "       'How much advance notice do your stakeholders provide when organising events?\\n\\n\\n\\n\\n\\n\\n',\n",
      "       'Do you receive feedback or data on the commercial outcomes of your events?',\n",
      "       'Which of the following factors do you prioritise when planning an event? ',\n",
      "       'Rank main challenges in your role for the next 12 months.',\n",
      "       'In your opinion, rank what event trends will shape the future of the events industry',\n",
      "       'Are you currently using AI in your event planning and management processes?',\n",
      "       'On average, what notice are you given to plan your stakeholder events?',\n",
      "       'Content generation (e.g., marketing materials, event scripts)',\n",
      "       'Data analysis and insights', 'Personalizing attendee experiences',\n",
      "       'Logistics and planning',\n",
      "       'How comfortable are you with the current use of AI and technology in the events industry?',\n",
      "       'Please rank the following priorities in your event planning process',\n",
      "       'Web-streaming', 'Hybrid Events', 'Biometric Tech', 'B2B Matchmaking',\n",
      "       'Event Registration', 'Chat GPT', 'Augmented reality', 'Other.5',\n",
      "       'Does your team include someone who occupies the role of event technologist?',\n",
      "       'Data Analysis', 'AI and Technology Proficiency',\n",
      "       'Sustainability Practices', 'Stakeholder Management',\n",
      "       'Marketing and Promotion', 'Other.6', 'Cost', 'Lack of Resources',\n",
      "       'Lack of knowledge', 'Other.7',\n",
      "       'Please rank how important the following are when choosing a new job role.',\n",
      "       'What area of the company does your job sit? (Select one)', 'Other.8',\n",
      "       'Which age group do you belong to?',\n",
      "       'What is your highest level of education?', 'Other.9',\n",
      "       'Industry Sector', 'Other.10', 'Less than 1 year', '1-3 years',\n",
      "       '3-5 years', '5-10 years', 'More than 10 years',\n",
      "       'How many people are in your team?',\n",
      "       'Do you see the number increasing, decreasing or staying the same over next 12 months',\n",
      "       'How many events does your team organise per year?',\n",
      "       'Development of structure/ strategy of the event',\n",
      "       'Programme content creation', 'Event delegate marketing plan',\n",
      "       'Implementation and fulfilment of plan', 'Budget creation',\n",
      "       'Budget management', 'Internal Team management',\n",
      "       'Appointment of agency/external contractors', 'Build creative strategy',\n",
      "       'Liaising with internal stakeholders', 'End to end project management',\n",
      "       'Digital event delivery', 'Research', 'New biz development',\n",
      "       'When there is event overload, which of the following do you commission most frequently? (Select all that apply)',\n",
      "       'On average, what is the cost per day for event freelancers',\n",
      "       'How likely are you to recommend ICE to a friend or colleague?',\n",
      "       'Email (optional)', 'email', 'hubspot_utk', 'hubspot_page_name',\n",
      "       'hubspot_page_url', 'Response Type', 'Start Date (UTC)',\n",
      "       'Stage Date (UTC)', 'Submit Date (UTC)', 'Network ID', 'Tags'],\n",
      "      dtype='object')\n"
     ]
    }
   ],
   "source": [
    "# Check the column names in the DataFrame\n",
    "print(df.columns)\n"
   ]
  },
  {
   "cell_type": "code",
   "execution_count": null,
   "metadata": {},
   "outputs": [],
   "source": []
  }
 ],
 "metadata": {
  "kernelspec": {
   "display_name": "venv",
   "language": "python",
   "name": "python3"
  },
  "language_info": {
   "codemirror_mode": {
    "name": "ipython",
    "version": 3
   },
   "file_extension": ".py",
   "mimetype": "text/x-python",
   "name": "python",
   "nbconvert_exporter": "python",
   "pygments_lexer": "ipython3",
   "version": "3.12.4"
  }
 },
 "nbformat": 4,
 "nbformat_minor": 2
}
