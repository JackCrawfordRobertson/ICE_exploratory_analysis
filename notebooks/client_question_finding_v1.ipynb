{
 "cells": [
  {
   "cell_type": "code",
   "execution_count": 25,
   "metadata": {},
   "outputs": [],
   "source": [
    "import pandas as pd\n",
    "import plotly.graph_objects as go\n",
    "\n",
    "# Load the CSV file (replace with your actual file path)\n",
    "df = pd.read_csv('../data/ICE24_responses.csv')\n"
   ]
  },
  {
   "cell_type": "code",
   "execution_count": 32,
   "metadata": {},
   "outputs": [
    {
     "name": "stdout",
     "output_type": "stream",
     "text": [
      "                                                    Column Number  \\\n",
      "Colomb_1                                                        1   \n",
      "Do you identify more as: An Event Strategist (i...              2   \n",
      "Other                                                           3   \n",
      "What best describes your job role?                              4   \n",
      "Other.1                                                         5   \n",
      "Attendee Satisfaction                                           6   \n",
      "Number of attendees                                             7   \n",
      "Lead Generation                                                 8   \n",
      "Social Media Engagement                                         9   \n",
      "Post-Event Surveys                                             10   \n",
      "User activity of event app                                     11   \n",
      "Net promoter score                                             12   \n",
      "Use of event app                                               13   \n",
      "Content performance                                            14   \n",
      "Other.2                                                        15   \n",
      "Who is responsible for setting the event budget?               16   \n",
      "Other.3                                                        17   \n",
      "Who is responsible for tracking the commercial ...             18   \n",
      "Other.4                                                        19   \n",
      "How much advance notice do your stakeholders pr...             20   \n",
      "Do you receive feedback or data on the commerci...             21   \n",
      "Which of the following factors do you prioritis...             22   \n",
      "Rank main challenges in your role for the next ...             23   \n",
      "In your opinion, rank what event trends will sh...             24   \n",
      "Are you currently using AI in your event planni...             25   \n",
      "On average, what notice are you given to plan y...             26   \n",
      "Content generation (e.g., marketing materials, ...             27   \n",
      "Data analysis and insights                                     28   \n",
      "Personalizing attendee experiences                             29   \n",
      "Logistics and planning                                         30   \n",
      "How comfortable are you with the current use of...             31   \n",
      "Please rank the following priorities in your ev...             32   \n",
      "Web-streaming                                                  33   \n",
      "Hybrid Events                                                  34   \n",
      "Biometric Tech                                                 35   \n",
      "B2B Matchmaking                                                36   \n",
      "Event Registration                                             37   \n",
      "Chat GPT                                                       38   \n",
      "Augmented reality                                              39   \n",
      "Other.5                                                        40   \n",
      "Does your team include someone who occupies the...             41   \n",
      "Data Analysis                                                  42   \n",
      "AI and Technology Proficiency                                  43   \n",
      "Sustainability Practices                                       44   \n",
      "Stakeholder Management                                         45   \n",
      "Marketing and Promotion                                        46   \n",
      "Other.6                                                        47   \n",
      "Cost                                                           48   \n",
      "Lack of Resources                                              49   \n",
      "Lack of knowledge                                              50   \n",
      "Other.7                                                        51   \n",
      "Please rank how important the following are whe...             52   \n",
      "What area of the company does your job sit? (Se...             53   \n",
      "Other.8                                                        54   \n",
      "Which age group do you belong to?                              55   \n",
      "What is your highest level of education?                       56   \n",
      "Other.9                                                        57   \n",
      "Industry Sector                                                58   \n",
      "Other.10                                                       59   \n",
      "Less than 1 year                                               60   \n",
      "1-3 years                                                      61   \n",
      "3-5 years                                                      62   \n",
      "5-10 years                                                     63   \n",
      "More than 10 years                                             64   \n",
      "How many people are in your team?                              65   \n",
      "Do you see the number increasing, decreasing or...             66   \n",
      "How many events does your team organise per year?              67   \n",
      "Development of structure/ strategy of the event                68   \n",
      "Programme content creation                                     69   \n",
      "Event delegate marketing plan                                  70   \n",
      "Implementation and fulfilment of plan                          71   \n",
      "Budget creation                                                72   \n",
      "Budget management                                              73   \n",
      "Internal Team management                                       74   \n",
      "Appointment of agency/external contractors                     75   \n",
      "Build creative strategy                                        76   \n",
      "Liaising with internal stakeholders                            77   \n",
      "End to end project management                                  78   \n",
      "Digital event delivery                                         79   \n",
      "Research                                                       80   \n",
      "New biz development                                            81   \n",
      "When there is event overload, which of the foll...             82   \n",
      "On average, what is the cost per day for event ...             83   \n",
      "How likely are you to recommend ICE to a friend...             84   \n",
      "Email (optional)                                               85   \n",
      "email                                                          86   \n",
      "hubspot_utk                                                    87   \n",
      "hubspot_page_name                                              88   \n",
      "hubspot_page_url                                               89   \n",
      "Response Type                                                  90   \n",
      "Start Date (UTC)                                               91   \n",
      "Stage Date (UTC)                                               92   \n",
      "Submit Date (UTC)                                              93   \n",
      "Network ID                                                     94   \n",
      "Tags                                                           95   \n",
      "\n",
      "                                                                                          Column Name  \\\n",
      "Colomb_1                                                                                     Colomb_1   \n",
      "Do you identify more as: An Event Strategist (i...  Do you identify more as: An Event Strategist (...   \n",
      "Other                                                                                           Other   \n",
      "What best describes your job role?                                 What best describes your job role?   \n",
      "Other.1                                                                                       Other.1   \n",
      "Attendee Satisfaction                                                           Attendee Satisfaction   \n",
      "Number of attendees                                                               Number of attendees   \n",
      "Lead Generation                                                                       Lead Generation   \n",
      "Social Media Engagement                                                       Social Media Engagement   \n",
      "Post-Event Surveys                                                                 Post-Event Surveys   \n",
      "User activity of event app                                                 User activity of event app   \n",
      "Net promoter score                                                                 Net promoter score   \n",
      "Use of event app                                                                     Use of event app   \n",
      "Content performance                                                               Content performance   \n",
      "Other.2                                                                                       Other.2   \n",
      "Who is responsible for setting the event budget?     Who is responsible for setting the event budget?   \n",
      "Other.3                                                                                       Other.3   \n",
      "Who is responsible for tracking the commercial ...  Who is responsible for tracking the commercial...   \n",
      "Other.4                                                                                       Other.4   \n",
      "How much advance notice do your stakeholders pr...  How much advance notice do your stakeholders p...   \n",
      "Do you receive feedback or data on the commerci...  Do you receive feedback or data on the commerc...   \n",
      "Which of the following factors do you prioritis...  Which of the following factors do you prioriti...   \n",
      "Rank main challenges in your role for the next ...  Rank main challenges in your role for the next...   \n",
      "In your opinion, rank what event trends will sh...  In your opinion, rank what event trends will s...   \n",
      "Are you currently using AI in your event planni...  Are you currently using AI in your event plann...   \n",
      "On average, what notice are you given to plan y...  On average, what notice are you given to plan ...   \n",
      "Content generation (e.g., marketing materials, ...  Content generation (e.g., marketing materials,...   \n",
      "Data analysis and insights                                                 Data analysis and insights   \n",
      "Personalizing attendee experiences                                 Personalizing attendee experiences   \n",
      "Logistics and planning                                                         Logistics and planning   \n",
      "How comfortable are you with the current use of...  How comfortable are you with the current use o...   \n",
      "Please rank the following priorities in your ev...  Please rank the following priorities in your e...   \n",
      "Web-streaming                                                                           Web-streaming   \n",
      "Hybrid Events                                                                           Hybrid Events   \n",
      "Biometric Tech                                                                         Biometric Tech   \n",
      "B2B Matchmaking                                                                       B2B Matchmaking   \n",
      "Event Registration                                                                 Event Registration   \n",
      "Chat GPT                                                                                     Chat GPT   \n",
      "Augmented reality                                                                   Augmented reality   \n",
      "Other.5                                                                                       Other.5   \n",
      "Does your team include someone who occupies the...  Does your team include someone who occupies th...   \n",
      "Data Analysis                                                                           Data Analysis   \n",
      "AI and Technology Proficiency                                           AI and Technology Proficiency   \n",
      "Sustainability Practices                                                     Sustainability Practices   \n",
      "Stakeholder Management                                                         Stakeholder Management   \n",
      "Marketing and Promotion                                                       Marketing and Promotion   \n",
      "Other.6                                                                                       Other.6   \n",
      "Cost                                                                                             Cost   \n",
      "Lack of Resources                                                                   Lack of Resources   \n",
      "Lack of knowledge                                                                   Lack of knowledge   \n",
      "Other.7                                                                                       Other.7   \n",
      "Please rank how important the following are whe...  Please rank how important the following are wh...   \n",
      "What area of the company does your job sit? (Se...  What area of the company does your job sit? (S...   \n",
      "Other.8                                                                                       Other.8   \n",
      "Which age group do you belong to?                                   Which age group do you belong to?   \n",
      "What is your highest level of education?                     What is your highest level of education?   \n",
      "Other.9                                                                                       Other.9   \n",
      "Industry Sector                                                                       Industry Sector   \n",
      "Other.10                                                                                     Other.10   \n",
      "Less than 1 year                                                                     Less than 1 year   \n",
      "1-3 years                                                                                   1-3 years   \n",
      "3-5 years                                                                                   3-5 years   \n",
      "5-10 years                                                                                 5-10 years   \n",
      "More than 10 years                                                                 More than 10 years   \n",
      "How many people are in your team?                                   How many people are in your team?   \n",
      "Do you see the number increasing, decreasing or...  Do you see the number increasing, decreasing o...   \n",
      "How many events does your team organise per year?   How many events does your team organise per year?   \n",
      "Development of structure/ strategy of the event       Development of structure/ strategy of the event   \n",
      "Programme content creation                                                 Programme content creation   \n",
      "Event delegate marketing plan                                           Event delegate marketing plan   \n",
      "Implementation and fulfilment of plan                           Implementation and fulfilment of plan   \n",
      "Budget creation                                                                       Budget creation   \n",
      "Budget management                                                                   Budget management   \n",
      "Internal Team management                                                     Internal Team management   \n",
      "Appointment of agency/external contractors                 Appointment of agency/external contractors   \n",
      "Build creative strategy                                                       Build creative strategy   \n",
      "Liaising with internal stakeholders                               Liaising with internal stakeholders   \n",
      "End to end project management                                           End to end project management   \n",
      "Digital event delivery                                                         Digital event delivery   \n",
      "Research                                                                                     Research   \n",
      "New biz development                                                               New biz development   \n",
      "When there is event overload, which of the foll...  When there is event overload, which of the fol...   \n",
      "On average, what is the cost per day for event ...  On average, what is the cost per day for event...   \n",
      "How likely are you to recommend ICE to a friend...  How likely are you to recommend ICE to a frien...   \n",
      "Email (optional)                                                                     Email (optional)   \n",
      "email                                                                                           email   \n",
      "hubspot_utk                                                                               hubspot_utk   \n",
      "hubspot_page_name                                                                   hubspot_page_name   \n",
      "hubspot_page_url                                                                     hubspot_page_url   \n",
      "Response Type                                                                           Response Type   \n",
      "Start Date (UTC)                                                                     Start Date (UTC)   \n",
      "Stage Date (UTC)                                                                     Stage Date (UTC)   \n",
      "Submit Date (UTC)                                                                   Submit Date (UTC)   \n",
      "Network ID                                                                                 Network ID   \n",
      "Tags                                                                                             Tags   \n",
      "\n",
      "                                                                                        Row 1 Content  \n",
      "Colomb_1                                                             dugf2w95gbdigeodugf2w9wfbinejpki  \n",
      "Do you identify more as: An Event Strategist (i...                                An Event Strategist  \n",
      "Other                                                                                             NaN  \n",
      "What best describes your job role?                                     Director/Head of Events/Leader  \n",
      "Other.1                                                                                           NaN  \n",
      "Attendee Satisfaction                                                           Attendee Satisfaction  \n",
      "Number of attendees                                                               Number of attendees  \n",
      "Lead Generation                                                                                   NaN  \n",
      "Social Media Engagement                                                                           NaN  \n",
      "Post-Event Surveys                                                                 Post-Event Surveys  \n",
      "User activity of event app                                                                        NaN  \n",
      "Net promoter score                                                                 Net promoter score  \n",
      "Use of event app                                                                                  NaN  \n",
      "Content performance                                                               Content performance  \n",
      "Other.2                                                       Change in awareness of brand or message  \n",
      "Who is responsible for setting the event budget?                                           Event team  \n",
      "Other.3                                                                                           NaN  \n",
      "Who is responsible for tracking the commercial ...                                     Marketing Team  \n",
      "Other.4                                                                                           NaN  \n",
      "How much advance notice do your stakeholders pr...                                         2-3 Months  \n",
      "Do you receive feedback or data on the commerci...                                                 No  \n",
      "Which of the following factors do you prioritis...  Content Creation,Attendee Engagement,Budget,Di...  \n",
      "Rank main challenges in your role for the next ...  Stakeholder Management,Measuring ROI,Diversity...  \n",
      "In your opinion, rank what event trends will sh...  Greater emphasis on attendee experience,Greate...  \n",
      "Are you currently using AI in your event planni...                                                 No  \n",
      "On average, what notice are you given to plan y...                                                NaN  \n",
      "Content generation (e.g., marketing materials, ...                                                NaN  \n",
      "Data analysis and insights                                                                        NaN  \n",
      "Personalizing attendee experiences                                                                NaN  \n",
      "Logistics and planning                                                                            NaN  \n",
      "How comfortable are you with the current use of...                                                NaN  \n",
      "Please rank the following priorities in your ev...  Attendee Experience,Stakeholder Satisfaction,D...  \n",
      "Web-streaming                                                                           Web-streaming  \n",
      "Hybrid Events                                                                           Hybrid Events  \n",
      "Biometric Tech                                                                                    NaN  \n",
      "B2B Matchmaking                                                                                   NaN  \n",
      "Event Registration                                                                 Event Registration  \n",
      "Chat GPT                                                                                          NaN  \n",
      "Augmented reality                                                                                 NaN  \n",
      "Other.5                                                                                           NaN  \n",
      "Does your team include someone who occupies the...                                       I don’t know  \n",
      "Data Analysis                                                                                     NaN  \n",
      "AI and Technology Proficiency                                                                     NaN  \n",
      "Sustainability Practices                                                                          NaN  \n",
      "Stakeholder Management                                                                            NaN  \n",
      "Marketing and Promotion                                                                           NaN  \n",
      "Other.6                                                                                           NaN  \n",
      "Cost                                                                                             Cost  \n",
      "Lack of Resources                                                                   Lack of Resources  \n",
      "Lack of knowledge                                                                   Lack of knowledge  \n",
      "Other.7                                                                                           NaN  \n",
      "Please rank how important the following are whe...  Salary/compensation,Company culture,Work life ...  \n",
      "What area of the company does your job sit? (Se...                         Marketing & Communications  \n",
      "Other.8                                                                                           NaN  \n",
      "Which age group do you belong to?                                                               35-44  \n",
      "What is your highest level of education?                                            Bachelor's degree  \n",
      "Other.9                                                                                           NaN  \n",
      "Industry Sector                                                                                   NaN  \n",
      "Other.10                                                                             Higher education  \n",
      "Less than 1 year                                                                                  NaN  \n",
      "1-3 years                                                                                         NaN  \n",
      "3-5 years                                                                                         NaN  \n",
      "5-10 years                                                                                        NaN  \n",
      "More than 10 years                                                                 More than 10 years  \n",
      "How many people are in your team?                                                             11 - 20  \n",
      "Do you see the number increasing, decreasing or...                                         Increasing  \n",
      "How many events does your team organise per year?                                              60-100  \n",
      "Development of structure/ strategy of the event       Development of structure/ strategy of the event  \n",
      "Programme content creation                                                 Programme content creation  \n",
      "Event delegate marketing plan                                           Event delegate marketing plan  \n",
      "Implementation and fulfilment of plan                           Implementation and fulfilment of plan  \n",
      "Budget creation                                                                       Budget creation  \n",
      "Budget management                                                                   Budget management  \n",
      "Internal Team management                                                     Internal Team management  \n",
      "Appointment of agency/external contractors                 Appointment of agency/external contractors  \n",
      "Build creative strategy                                                       Build creative strategy  \n",
      "Liaising with internal stakeholders                               Liaising with internal stakeholders  \n",
      "End to end project management                                           End to end project management  \n",
      "Digital event delivery                                                         Digital event delivery  \n",
      "Research                                                                                     Research  \n",
      "New biz development                                                                               NaN  \n",
      "When there is event overload, which of the foll...                                  External agencies  \n",
      "On average, what is the cost per day for event ...                                          £600-£800  \n",
      "How likely are you to recommend ICE to a friend...                                                  1  \n",
      "Email (optional)                                                                                  NaN  \n",
      "email                                                                                           xxxxx  \n",
      "hubspot_utk                                                          deed8f10b17772f484dee09b97a472b6  \n",
      "hubspot_page_name                                          Research 2024 Questionnaire Complete Today  \n",
      "hubspot_page_url                                    https://research.typeform.com/to/WJdj2Ezr?utm_...  \n",
      "Response Type                                                                               completed  \n",
      "Start Date (UTC)                                                                  2024-08-23 20:28:09  \n",
      "Stage Date (UTC)                                                                                  NaN  \n",
      "Submit Date (UTC)                                                                 2024-08-23 20:33:32  \n",
      "Network ID                                                                                 5ebee29c2e  \n",
      "Tags                                                                                              NaN  \n"
     ]
    }
   ],
   "source": [
    "# Adjust pandas options to display all columns\n",
    "pd.set_option('display.max_columns', None)  # This will allow all columns to be printed\n",
    "pd.set_option('display.max_rows', None)     # This will allow all rows to be printed\n",
    "\n",
    "# Create a DataFrame to store column number, column name, and row 1 content\n",
    "columns_data = {\n",
    "    'Column Number': range(1, len(df.columns) + 1),  # Column numbers (starting from 1)\n",
    "    'Column Name': df.columns,  # Column names\n",
    "    'Row 1 Content': df.iloc[0]  # Content of row 1 (the first row)\n",
    "}\n",
    "\n",
    "# Create a new DataFrame from the columns_data dictionary\n",
    "df_columns_preview = pd.DataFrame(columns_data)\n",
    "\n",
    "# Display the new DataFrame with all columns\n",
    "print(df_columns_preview)"
   ]
  },
  {
   "cell_type": "code",
   "execution_count": 33,
   "metadata": {},
   "outputs": [],
   "source": [
    "# Export the DataFrame with the column list to a CSV file\n",
    "df_columns_preview.to_csv('column_data_preview.csv', index=False)"
   ]
  },
  {
   "cell_type": "code",
   "execution_count": 40,
   "metadata": {},
   "outputs": [
    {
     "data": {
      "application/vnd.plotly.v1+json": {
       "config": {
        "plotlyServerURL": "https://plot.ly"
       },
       "data": [
        {
         "hole": 0.3,
         "labels": [
          "Both",
          "An Event Strategist",
          "An Event Deliverer"
         ],
         "name": "Do you identify more as: An Event Strategist (involved in high-level planning, creative and decision making) or An Event Deliverer (focused on logistics and execution)",
         "pull": [
          0.05,
          0.05,
          0.05
         ],
         "type": "pie",
         "values": [
          27,
          23,
          8
         ],
         "visible": true
        },
        {
         "hole": 0.3,
         "labels": [
          "Director/Head of Events/Leader",
          "Senior Manager",
          "Manager",
          "Junior/Entry Level"
         ],
         "name": "What best describes your job role?",
         "pull": [
          0.05,
          0.05,
          0.05,
          0.05
         ],
         "type": "pie",
         "values": [
          36,
          10,
          10,
          2
         ],
         "visible": false
        }
       ],
       "layout": {
        "height": 900,
        "legend": {
         "orientation": "h",
         "x": 0.5,
         "xanchor": "center",
         "y": -0.2,
         "yanchor": "bottom"
        },
        "margin": {
         "b": 200,
         "t": 60
        },
        "template": {
         "data": {
          "bar": [
           {
            "error_x": {
             "color": "#2a3f5f"
            },
            "error_y": {
             "color": "#2a3f5f"
            },
            "marker": {
             "line": {
              "color": "#E5ECF6",
              "width": 0.5
             },
             "pattern": {
              "fillmode": "overlay",
              "size": 10,
              "solidity": 0.2
             }
            },
            "type": "bar"
           }
          ],
          "barpolar": [
           {
            "marker": {
             "line": {
              "color": "#E5ECF6",
              "width": 0.5
             },
             "pattern": {
              "fillmode": "overlay",
              "size": 10,
              "solidity": 0.2
             }
            },
            "type": "barpolar"
           }
          ],
          "carpet": [
           {
            "aaxis": {
             "endlinecolor": "#2a3f5f",
             "gridcolor": "white",
             "linecolor": "white",
             "minorgridcolor": "white",
             "startlinecolor": "#2a3f5f"
            },
            "baxis": {
             "endlinecolor": "#2a3f5f",
             "gridcolor": "white",
             "linecolor": "white",
             "minorgridcolor": "white",
             "startlinecolor": "#2a3f5f"
            },
            "type": "carpet"
           }
          ],
          "choropleth": [
           {
            "colorbar": {
             "outlinewidth": 0,
             "ticks": ""
            },
            "type": "choropleth"
           }
          ],
          "contour": [
           {
            "colorbar": {
             "outlinewidth": 0,
             "ticks": ""
            },
            "colorscale": [
             [
              0,
              "#0d0887"
             ],
             [
              0.1111111111111111,
              "#46039f"
             ],
             [
              0.2222222222222222,
              "#7201a8"
             ],
             [
              0.3333333333333333,
              "#9c179e"
             ],
             [
              0.4444444444444444,
              "#bd3786"
             ],
             [
              0.5555555555555556,
              "#d8576b"
             ],
             [
              0.6666666666666666,
              "#ed7953"
             ],
             [
              0.7777777777777778,
              "#fb9f3a"
             ],
             [
              0.8888888888888888,
              "#fdca26"
             ],
             [
              1,
              "#f0f921"
             ]
            ],
            "type": "contour"
           }
          ],
          "contourcarpet": [
           {
            "colorbar": {
             "outlinewidth": 0,
             "ticks": ""
            },
            "type": "contourcarpet"
           }
          ],
          "heatmap": [
           {
            "colorbar": {
             "outlinewidth": 0,
             "ticks": ""
            },
            "colorscale": [
             [
              0,
              "#0d0887"
             ],
             [
              0.1111111111111111,
              "#46039f"
             ],
             [
              0.2222222222222222,
              "#7201a8"
             ],
             [
              0.3333333333333333,
              "#9c179e"
             ],
             [
              0.4444444444444444,
              "#bd3786"
             ],
             [
              0.5555555555555556,
              "#d8576b"
             ],
             [
              0.6666666666666666,
              "#ed7953"
             ],
             [
              0.7777777777777778,
              "#fb9f3a"
             ],
             [
              0.8888888888888888,
              "#fdca26"
             ],
             [
              1,
              "#f0f921"
             ]
            ],
            "type": "heatmap"
           }
          ],
          "heatmapgl": [
           {
            "colorbar": {
             "outlinewidth": 0,
             "ticks": ""
            },
            "colorscale": [
             [
              0,
              "#0d0887"
             ],
             [
              0.1111111111111111,
              "#46039f"
             ],
             [
              0.2222222222222222,
              "#7201a8"
             ],
             [
              0.3333333333333333,
              "#9c179e"
             ],
             [
              0.4444444444444444,
              "#bd3786"
             ],
             [
              0.5555555555555556,
              "#d8576b"
             ],
             [
              0.6666666666666666,
              "#ed7953"
             ],
             [
              0.7777777777777778,
              "#fb9f3a"
             ],
             [
              0.8888888888888888,
              "#fdca26"
             ],
             [
              1,
              "#f0f921"
             ]
            ],
            "type": "heatmapgl"
           }
          ],
          "histogram": [
           {
            "marker": {
             "pattern": {
              "fillmode": "overlay",
              "size": 10,
              "solidity": 0.2
             }
            },
            "type": "histogram"
           }
          ],
          "histogram2d": [
           {
            "colorbar": {
             "outlinewidth": 0,
             "ticks": ""
            },
            "colorscale": [
             [
              0,
              "#0d0887"
             ],
             [
              0.1111111111111111,
              "#46039f"
             ],
             [
              0.2222222222222222,
              "#7201a8"
             ],
             [
              0.3333333333333333,
              "#9c179e"
             ],
             [
              0.4444444444444444,
              "#bd3786"
             ],
             [
              0.5555555555555556,
              "#d8576b"
             ],
             [
              0.6666666666666666,
              "#ed7953"
             ],
             [
              0.7777777777777778,
              "#fb9f3a"
             ],
             [
              0.8888888888888888,
              "#fdca26"
             ],
             [
              1,
              "#f0f921"
             ]
            ],
            "type": "histogram2d"
           }
          ],
          "histogram2dcontour": [
           {
            "colorbar": {
             "outlinewidth": 0,
             "ticks": ""
            },
            "colorscale": [
             [
              0,
              "#0d0887"
             ],
             [
              0.1111111111111111,
              "#46039f"
             ],
             [
              0.2222222222222222,
              "#7201a8"
             ],
             [
              0.3333333333333333,
              "#9c179e"
             ],
             [
              0.4444444444444444,
              "#bd3786"
             ],
             [
              0.5555555555555556,
              "#d8576b"
             ],
             [
              0.6666666666666666,
              "#ed7953"
             ],
             [
              0.7777777777777778,
              "#fb9f3a"
             ],
             [
              0.8888888888888888,
              "#fdca26"
             ],
             [
              1,
              "#f0f921"
             ]
            ],
            "type": "histogram2dcontour"
           }
          ],
          "mesh3d": [
           {
            "colorbar": {
             "outlinewidth": 0,
             "ticks": ""
            },
            "type": "mesh3d"
           }
          ],
          "parcoords": [
           {
            "line": {
             "colorbar": {
              "outlinewidth": 0,
              "ticks": ""
             }
            },
            "type": "parcoords"
           }
          ],
          "pie": [
           {
            "automargin": true,
            "type": "pie"
           }
          ],
          "scatter": [
           {
            "fillpattern": {
             "fillmode": "overlay",
             "size": 10,
             "solidity": 0.2
            },
            "type": "scatter"
           }
          ],
          "scatter3d": [
           {
            "line": {
             "colorbar": {
              "outlinewidth": 0,
              "ticks": ""
             }
            },
            "marker": {
             "colorbar": {
              "outlinewidth": 0,
              "ticks": ""
             }
            },
            "type": "scatter3d"
           }
          ],
          "scattercarpet": [
           {
            "marker": {
             "colorbar": {
              "outlinewidth": 0,
              "ticks": ""
             }
            },
            "type": "scattercarpet"
           }
          ],
          "scattergeo": [
           {
            "marker": {
             "colorbar": {
              "outlinewidth": 0,
              "ticks": ""
             }
            },
            "type": "scattergeo"
           }
          ],
          "scattergl": [
           {
            "marker": {
             "colorbar": {
              "outlinewidth": 0,
              "ticks": ""
             }
            },
            "type": "scattergl"
           }
          ],
          "scattermapbox": [
           {
            "marker": {
             "colorbar": {
              "outlinewidth": 0,
              "ticks": ""
             }
            },
            "type": "scattermapbox"
           }
          ],
          "scatterpolar": [
           {
            "marker": {
             "colorbar": {
              "outlinewidth": 0,
              "ticks": ""
             }
            },
            "type": "scatterpolar"
           }
          ],
          "scatterpolargl": [
           {
            "marker": {
             "colorbar": {
              "outlinewidth": 0,
              "ticks": ""
             }
            },
            "type": "scatterpolargl"
           }
          ],
          "scatterternary": [
           {
            "marker": {
             "colorbar": {
              "outlinewidth": 0,
              "ticks": ""
             }
            },
            "type": "scatterternary"
           }
          ],
          "surface": [
           {
            "colorbar": {
             "outlinewidth": 0,
             "ticks": ""
            },
            "colorscale": [
             [
              0,
              "#0d0887"
             ],
             [
              0.1111111111111111,
              "#46039f"
             ],
             [
              0.2222222222222222,
              "#7201a8"
             ],
             [
              0.3333333333333333,
              "#9c179e"
             ],
             [
              0.4444444444444444,
              "#bd3786"
             ],
             [
              0.5555555555555556,
              "#d8576b"
             ],
             [
              0.6666666666666666,
              "#ed7953"
             ],
             [
              0.7777777777777778,
              "#fb9f3a"
             ],
             [
              0.8888888888888888,
              "#fdca26"
             ],
             [
              1,
              "#f0f921"
             ]
            ],
            "type": "surface"
           }
          ],
          "table": [
           {
            "cells": {
             "fill": {
              "color": "#EBF0F8"
             },
             "line": {
              "color": "white"
             }
            },
            "header": {
             "fill": {
              "color": "#C8D4E3"
             },
             "line": {
              "color": "white"
             }
            },
            "type": "table"
           }
          ]
         },
         "layout": {
          "annotationdefaults": {
           "arrowcolor": "#2a3f5f",
           "arrowhead": 0,
           "arrowwidth": 1
          },
          "autotypenumbers": "strict",
          "coloraxis": {
           "colorbar": {
            "outlinewidth": 0,
            "ticks": ""
           }
          },
          "colorscale": {
           "diverging": [
            [
             0,
             "#8e0152"
            ],
            [
             0.1,
             "#c51b7d"
            ],
            [
             0.2,
             "#de77ae"
            ],
            [
             0.3,
             "#f1b6da"
            ],
            [
             0.4,
             "#fde0ef"
            ],
            [
             0.5,
             "#f7f7f7"
            ],
            [
             0.6,
             "#e6f5d0"
            ],
            [
             0.7,
             "#b8e186"
            ],
            [
             0.8,
             "#7fbc41"
            ],
            [
             0.9,
             "#4d9221"
            ],
            [
             1,
             "#276419"
            ]
           ],
           "sequential": [
            [
             0,
             "#0d0887"
            ],
            [
             0.1111111111111111,
             "#46039f"
            ],
            [
             0.2222222222222222,
             "#7201a8"
            ],
            [
             0.3333333333333333,
             "#9c179e"
            ],
            [
             0.4444444444444444,
             "#bd3786"
            ],
            [
             0.5555555555555556,
             "#d8576b"
            ],
            [
             0.6666666666666666,
             "#ed7953"
            ],
            [
             0.7777777777777778,
             "#fb9f3a"
            ],
            [
             0.8888888888888888,
             "#fdca26"
            ],
            [
             1,
             "#f0f921"
            ]
           ],
           "sequentialminus": [
            [
             0,
             "#0d0887"
            ],
            [
             0.1111111111111111,
             "#46039f"
            ],
            [
             0.2222222222222222,
             "#7201a8"
            ],
            [
             0.3333333333333333,
             "#9c179e"
            ],
            [
             0.4444444444444444,
             "#bd3786"
            ],
            [
             0.5555555555555556,
             "#d8576b"
            ],
            [
             0.6666666666666666,
             "#ed7953"
            ],
            [
             0.7777777777777778,
             "#fb9f3a"
            ],
            [
             0.8888888888888888,
             "#fdca26"
            ],
            [
             1,
             "#f0f921"
            ]
           ]
          },
          "colorway": [
           "#636efa",
           "#EF553B",
           "#00cc96",
           "#ab63fa",
           "#FFA15A",
           "#19d3f3",
           "#FF6692",
           "#B6E880",
           "#FF97FF",
           "#FECB52"
          ],
          "font": {
           "color": "#2a3f5f"
          },
          "geo": {
           "bgcolor": "white",
           "lakecolor": "white",
           "landcolor": "#E5ECF6",
           "showlakes": true,
           "showland": true,
           "subunitcolor": "white"
          },
          "hoverlabel": {
           "align": "left"
          },
          "hovermode": "closest",
          "mapbox": {
           "style": "light"
          },
          "paper_bgcolor": "white",
          "plot_bgcolor": "#E5ECF6",
          "polar": {
           "angularaxis": {
            "gridcolor": "white",
            "linecolor": "white",
            "ticks": ""
           },
           "bgcolor": "#E5ECF6",
           "radialaxis": {
            "gridcolor": "white",
            "linecolor": "white",
            "ticks": ""
           }
          },
          "scene": {
           "xaxis": {
            "backgroundcolor": "#E5ECF6",
            "gridcolor": "white",
            "gridwidth": 2,
            "linecolor": "white",
            "showbackground": true,
            "ticks": "",
            "zerolinecolor": "white"
           },
           "yaxis": {
            "backgroundcolor": "#E5ECF6",
            "gridcolor": "white",
            "gridwidth": 2,
            "linecolor": "white",
            "showbackground": true,
            "ticks": "",
            "zerolinecolor": "white"
           },
           "zaxis": {
            "backgroundcolor": "#E5ECF6",
            "gridcolor": "white",
            "gridwidth": 2,
            "linecolor": "white",
            "showbackground": true,
            "ticks": "",
            "zerolinecolor": "white"
           }
          },
          "shapedefaults": {
           "line": {
            "color": "#2a3f5f"
           }
          },
          "ternary": {
           "aaxis": {
            "gridcolor": "white",
            "linecolor": "white",
            "ticks": ""
           },
           "baxis": {
            "gridcolor": "white",
            "linecolor": "white",
            "ticks": ""
           },
           "bgcolor": "#E5ECF6",
           "caxis": {
            "gridcolor": "white",
            "linecolor": "white",
            "ticks": ""
           }
          },
          "title": {
           "x": 0.05
          },
          "xaxis": {
           "automargin": true,
           "gridcolor": "white",
           "linecolor": "white",
           "ticks": "",
           "title": {
            "standoff": 15
           },
           "zerolinecolor": "white",
           "zerolinewidth": 2
          },
          "yaxis": {
           "automargin": true,
           "gridcolor": "white",
           "linecolor": "white",
           "ticks": "",
           "title": {
            "standoff": 15
           },
           "zerolinecolor": "white",
           "zerolinewidth": 2
          }
         }
        },
        "title": {
         "font": {
          "size": 20
         },
         "text": "Totals for Do you identify more as: An Event Strategist (involved in high-level planning, creative and decision making) or An Event Deliverer (focused on logistics and execution)",
         "x": 0.5,
         "xanchor": "center"
        },
        "transition": {
         "duration": 500,
         "easing": "cubic-in-out"
        },
        "updatemenus": [
         {
          "bgcolor": "lightgrey",
          "buttons": [
           {
            "args": [
             {
              "visible": [
               true,
               false
              ]
             },
             {
              "title": "Totals for Do you identify more as: An Event Strategist (involved in high-level planning, creative and decision making) or An Event Deliverer (focused on logistics and execution)"
             }
            ],
            "label": "Do you identify...",
            "method": "update"
           },
           {
            "args": [
             {
              "visible": [
               false,
               true
              ]
             },
             {
              "title": "Totals for What best describes your job role?"
             }
            ],
            "label": "What best descr...",
            "method": "update"
           }
          ],
          "direction": "down",
          "font": {
           "size": 12
          },
          "pad": {
           "r": 10,
           "t": 10
          },
          "showactive": true,
          "type": "dropdown",
          "x": 0.5,
          "xanchor": "center",
          "y": -0.15,
          "yanchor": "bottom"
         }
        ]
       }
      }
     },
     "metadata": {},
     "output_type": "display_data"
    }
   ],
   "source": [
    "# Specify the column indices you want to visualize (replace with actual column names or indices)\n",
    "columns_to_display = [ df.columns[1], df.columns[3] ,df.columns[15] ,df.columns[17] ,df.columns[19] ,df.columns[21] ,df.columns [22] ,df.columns[23] ,df.columns[24] ,df.columns[25]]\n",
    "\n",
    "# Create an empty figure\n",
    "fig = go.Figure()\n",
    "\n",
    "# Add pie charts for each column, but make all but the first one invisible\n",
    "for i, column in enumerate(columns_to_display):\n",
    "    # Get the value counts for the current column\n",
    "    value_counts = df[column].value_counts()\n",
    "    \n",
    "    # Create a pie chart for this column\n",
    "    fig.add_trace(go.Pie(\n",
    "        labels=value_counts.index,  # Unique answers\n",
    "        values=value_counts.values,  # Counts of each unique answer\n",
    "        visible=(i == 0),  # Make column 2 (first column in the list) visible by default\n",
    "        name=column,\n",
    "        hole=0.3,  # Optional: add a hole in the pie chart (donut style)\n",
    "        pull=[0.05] * len(value_counts),  # Slightly pull slices apart for visual distinction\n",
    "    ))\n",
    "\n",
    "# Create the dropdown menu options with shorter titles if needed\n",
    "dropdown_buttons = [\n",
    "    {'label': col[:15] + '...' if len(col) > 15 else col,  # Shorten long column names\n",
    "     'method': 'update',\n",
    "     'args': [{'visible': [j == i for j in range(len(columns_to_display))]},  # Set visibility based on the selected column\n",
    "              {'title': f'Totals for {col}'}],\n",
    "     } \n",
    "    for i, col in enumerate(columns_to_display)\n",
    "]\n",
    "\n",
    "# Update the layout to include the dropdown menu and improve the layout\n",
    "fig.update_layout(\n",
    "    updatemenus=[{\n",
    "        'buttons': dropdown_buttons,\n",
    "        'direction': 'down',\n",
    "        'showactive': True,\n",
    "        'x': 0.5,  # Center the dropdown menu\n",
    "        'xanchor': 'center',\n",
    "        'y': -0.15,  # Move the dropdown higher (further off the bottom)\n",
    "        'yanchor': 'bottom',\n",
    "        'pad': {'r': 10, 't': 10},  # Reduce padding\n",
    "        'font': {'size': 12},  # Adjust font size for the dropdown\n",
    "        'type': 'dropdown',  # Ensure it's a dropdown\n",
    "        'bgcolor': 'lightgrey',  # Optional: change dropdown background for better visibility\n",
    "    }],\n",
    "    title_text=f'Totals for {columns_to_display[0]}',  # Initial title for the first pie chart (column 2 by default)\n",
    "    title_x=0.5,  # Center the title\n",
    "    title_xanchor='center',\n",
    "    titlefont_size=20,\n",
    "  \n",
    "    margin=dict(t=60, b=200),  # Add more margin to the bottom\n",
    "    height=900,  # Adjust height of the figure\n",
    "    legend=dict(orientation=\"h\",  # Move the legend to the bottom\n",
    "                yanchor=\"bottom\",\n",
    "                y=-0.2,  # Adjust legend position if needed\n",
    "                xanchor=\"center\",\n",
    "                x=0.5),\n",
    "    transition=dict(duration=500, easing='cubic-in-out'),  # Add smooth animation\n",
    ")\n",
    "\n",
    "# Show the figure\n",
    "fig.show()"
   ]
  },
  {
   "cell_type": "code",
   "execution_count": null,
   "metadata": {},
   "outputs": [],
   "source": []
  }
 ],
 "metadata": {
  "kernelspec": {
   "display_name": "venv",
   "language": "python",
   "name": "python3"
  },
  "language_info": {
   "codemirror_mode": {
    "name": "ipython",
    "version": 3
   },
   "file_extension": ".py",
   "mimetype": "text/x-python",
   "name": "python",
   "nbconvert_exporter": "python",
   "pygments_lexer": "ipython3",
   "version": "3.12.4"
  }
 },
 "nbformat": 4,
 "nbformat_minor": 2
}
