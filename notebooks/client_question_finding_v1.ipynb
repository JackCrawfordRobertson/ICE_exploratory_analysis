{
 "cells": [
  {
   "cell_type": "code",
   "execution_count": 38,
   "metadata": {},
   "outputs": [],
   "source": [
    "import pandas as pd\n",
    "import plotly.graph_objects as go\n",
    "\n",
    "# Load the CSV file (replace with your actual file path)\n",
    "\n",
    "df = pd.read_csv('../data/cleaned_data.csv')\n"
   ]
  },
  {
   "cell_type": "code",
   "execution_count": 39,
   "metadata": {},
   "outputs": [
    {
     "name": "stdout",
     "output_type": "stream",
     "text": [
      "                                                    Column Number  \\\n",
      "Do you identify more as: An Event Strategist or...              1   \n",
      "What best describes your job role?                              2   \n",
      "Who is responsible for setting the event budget?                3   \n",
      "Who is responsible for tracking the commercial ...              4   \n",
      "How much advance notice do your stakeholders pr...              5   \n",
      "Do you receive feedback or data on the commerci...              6   \n",
      "In your opinion, rank what event trends will sh...              7   \n",
      "Are you currently using AI in your event planni...              8   \n",
      "On average, what notice are you given to plan y...              9   \n",
      "How comfortable are you with the current use of...             10   \n",
      "Does your team include someone who occupies the...             11   \n",
      "Please rank how important the following are whe...             12   \n",
      "What area of the company does your job sit? (Se...             13   \n",
      "Which age group do you belong to?                              14   \n",
      "What is your highest level of education?                       15   \n",
      "Do you see the number increasing, decreasing or...             16   \n",
      "How many events does your team organise per year?              17   \n",
      "On average, what is the cost per day for event ...             18   \n",
      "How likely are you to recommend ICE to a friend...             19   \n",
      "\n",
      "                                                                                          Column Name  \\\n",
      "Do you identify more as: An Event Strategist or...  Do you identify more as: An Event Strategist o...   \n",
      "What best describes your job role?                                 What best describes your job role?   \n",
      "Who is responsible for setting the event budget?     Who is responsible for setting the event budget?   \n",
      "Who is responsible for tracking the commercial ...  Who is responsible for tracking the commercial...   \n",
      "How much advance notice do your stakeholders pr...  How much advance notice do your stakeholders p...   \n",
      "Do you receive feedback or data on the commerci...  Do you receive feedback or data on the commerc...   \n",
      "In your opinion, rank what event trends will sh...  In your opinion, rank what event trends will s...   \n",
      "Are you currently using AI in your event planni...  Are you currently using AI in your event plann...   \n",
      "On average, what notice are you given to plan y...  On average, what notice are you given to plan ...   \n",
      "How comfortable are you with the current use of...  How comfortable are you with the current use o...   \n",
      "Does your team include someone who occupies the...  Does your team include someone who occupies th...   \n",
      "Please rank how important the following are whe...  Please rank how important the following are wh...   \n",
      "What area of the company does your job sit? (Se...  What area of the company does your job sit? (S...   \n",
      "Which age group do you belong to?                                   Which age group do you belong to?   \n",
      "What is your highest level of education?                     What is your highest level of education?   \n",
      "Do you see the number increasing, decreasing or...  Do you see the number increasing, decreasing o...   \n",
      "How many events does your team organise per year?   How many events does your team organise per year?   \n",
      "On average, what is the cost per day for event ...  On average, what is the cost per day for event...   \n",
      "How likely are you to recommend ICE to a friend...  How likely are you to recommend ICE to a frien...   \n",
      "\n",
      "                                                                                        Row 1 Content  \n",
      "Do you identify more as: An Event Strategist or...                                An Event Strategist  \n",
      "What best describes your job role?                                     Director/Head of Events/Leader  \n",
      "Who is responsible for setting the event budget?                                           Event team  \n",
      "Who is responsible for tracking the commercial ...                                     Marketing Team  \n",
      "How much advance notice do your stakeholders pr...                                         2-3 Months  \n",
      "Do you receive feedback or data on the commerci...                                                 No  \n",
      "In your opinion, rank what event trends will sh...  Greater emphasis on attendee experience,Greate...  \n",
      "Are you currently using AI in your event planni...                                                 No  \n",
      "On average, what notice are you given to plan y...                                                NaN  \n",
      "How comfortable are you with the current use of...                                                NaN  \n",
      "Does your team include someone who occupies the...                                       I don’t know  \n",
      "Please rank how important the following are whe...  Salary/compensation,Company culture,Work life ...  \n",
      "What area of the company does your job sit? (Se...                         Marketing & Communications  \n",
      "Which age group do you belong to?                                                               35-44  \n",
      "What is your highest level of education?                                            Bachelor's degree  \n",
      "Do you see the number increasing, decreasing or...                                         Increasing  \n",
      "How many events does your team organise per year?                                              60-100  \n",
      "On average, what is the cost per day for event ...                                          £600-£800  \n",
      "How likely are you to recommend ICE to a friend...                                                  1  \n"
     ]
    }
   ],
   "source": [
    "# Adjust pandas options to display all columns\n",
    "pd.set_option('display.max_columns', None)  # This will allow all columns to be printed\n",
    "pd.set_option('display.max_rows', None)     # This will allow all rows to be printed\n",
    "\n",
    "# Create a DataFrame to store column number, column name, and row 1 content\n",
    "columns_data = {\n",
    "    'Column Number': range(1, len(df.columns) + 1),  # Column numbers (starting from 1)\n",
    "    'Column Name': df.columns,  # Column names\n",
    "    'Row 1 Content': df.iloc[0]  # Content of row 1 (the first row)\n",
    "}\n",
    "\n",
    "# Create a new DataFrame from the columns_data dictionary\n",
    "df_columns_preview = pd.DataFrame(columns_data)\n",
    "\n",
    "# Display the new DataFrame with all columns\n",
    "print(df_columns_preview)"
   ]
  },
  {
   "cell_type": "code",
   "execution_count": 40,
   "metadata": {},
   "outputs": [],
   "source": [
    "# Export the DataFrame with the column list to a CSV file\n",
    "df_columns_preview.to_csv('column_data_preview.csv', index=False)"
   ]
  },
  {
   "cell_type": "code",
   "execution_count": 41,
   "metadata": {},
   "outputs": [
    {
     "data": {
      "application/vnd.plotly.v1+json": {
       "config": {
        "plotlyServerURL": "https://plot.ly"
       },
       "data": [
        {
         "hole": 0.3,
         "hoverinfo": "label+percent+value",
         "hovertemplate": "<b>%{label}</b><br>Count: %{value}<br>Percent: %{percent:.2%}<extra></extra>",
         "labels": [
          "An Event Deliverer",
          "An Event Strategist",
          "Both"
         ],
         "name": "Do you identify more as: An Event Strategist or An Event Deliverer ",
         "pull": [
          0.05,
          0.05,
          0.05
         ],
         "showlegend": true,
         "type": "pie",
         "values": [
          8,
          23,
          27
         ],
         "visible": true
        },
        {
         "hole": 0.3,
         "hoverinfo": "label+percent+value",
         "hovertemplate": "<b>%{label}</b><br>Count: %{value}<br>Percent: %{percent:.2%}<extra></extra>",
         "labels": [
          "Director/Head of Events/Leader",
          "Junior/Entry Level",
          "Manager",
          "Senior Manager"
         ],
         "name": "What best describes your job role?",
         "pull": [
          0.05,
          0.05,
          0.05,
          0.05
         ],
         "showlegend": true,
         "type": "pie",
         "values": [
          36,
          2,
          10,
          10
         ],
         "visible": false
        },
        {
         "hole": 0.3,
         "hoverinfo": "label+percent+value",
         "hovertemplate": "<b>%{label}</b><br>Count: %{value}<br>Percent: %{percent:.2%}<extra></extra>",
         "labels": [
          "Event team",
          "Global Team",
          "Sponsorship sales",
          "Stakeholder"
         ],
         "name": "Who is responsible for setting the event budget?",
         "pull": [
          0.05,
          0.05,
          0.05,
          0.05
         ],
         "showlegend": true,
         "type": "pie",
         "values": [
          21,
          "Other",
          "Other",
          22
         ],
         "visible": false
        },
        {
         "hole": 0.3,
         "hoverinfo": "label+percent+value",
         "hovertemplate": "<b>%{label}</b><br>Count: %{value}<br>Percent: %{percent:.2%}<extra></extra>",
         "labels": [
          "Event Planning Team",
          "Marketing Team",
          "Mixture of all and planning and effectiveness team",
          "Policy team",
          "Sales & Marketing",
          "Sales Team"
         ],
         "name": "Who is responsible for tracking the commercial follow-up of events in your organisation?",
         "pull": [
          0.05,
          0.05,
          0.05,
          0.05,
          0.05,
          0.05
         ],
         "showlegend": false,
         "type": "pie",
         "values": [
          11,
          16,
          "Other",
          "Other",
          "Other",
          14
         ],
         "visible": false
        },
        {
         "hole": 0.3,
         "hoverinfo": "label+percent+value",
         "hovertemplate": "<b>%{label}</b><br>Count: %{value}<br>Percent: %{percent:.2%}<extra></extra>",
         "labels": [
          "1-2 Months",
          "12months +",
          "2-3 Months",
          "4-6 months",
          "6-12 months"
         ],
         "name": "How much advance notice do your stakeholders provide when organising events?",
         "pull": [
          0.05,
          0.05,
          0.05,
          0.05,
          0.05
         ],
         "showlegend": true,
         "type": "pie",
         "values": [
          7,
          4,
          15,
          10,
          9
         ],
         "visible": false
        },
        {
         "hole": 0.3,
         "hoverinfo": "label+percent+value",
         "hovertemplate": "<b>%{label}</b><br>Count: %{value}<br>Percent: %{percent:.2%}<extra></extra>",
         "labels": [
          "No",
          "Yes, occasionally",
          "Yes, regularly"
         ],
         "name": "Do you receive feedback or data on the commercial outcomes of your events?",
         "pull": [
          0.05,
          0.05,
          0.05
         ],
         "showlegend": true,
         "type": "pie",
         "values": [
          8,
          19,
          19
         ],
         "visible": false
        },
        {
         "hole": 0.3,
         "hoverinfo": "label+percent+value",
         "hovertemplate": "<b>%{label}</b><br>Count: %{value}<br>Percent: %{percent:.2%}<extra></extra>",
         "labels": [
          "Enhanced data analytics for decision making,Greater emphasis on attendee experience,Increased use of AI and technology,Greater focus on sustainability,Hybrid event formats",
          "Enhanced data analytics for decision making,Greater emphasis on attendee experience,Increased use of AI and technology,Hybrid event formats,Greater focus on sustainability",
          "Enhanced data analytics for decision making,Greater focus on sustainability,Increased use of AI and technology,Greater emphasis on attendee experience,Hybrid event formats",
          "Enhanced data analytics for decision making,Increased use of AI and technology,Greater emphasis on attendee experience,Greater focus on sustainability,Hybrid event formats",
          "Greater emphasis on attendee experience,Enhanced data analytics for decision making,Hybrid event formats,Increased use of AI and technology,Greater focus on sustainability",
          "Greater emphasis on attendee experience,Enhanced data analytics for decision making,Increased use of AI and technology,Greater focus on sustainability,Hybrid event formats",
          "Greater emphasis on attendee experience,Enhanced data analytics for decision making,Increased use of AI and technology,Hybrid event formats,Greater focus on sustainability",
          "Greater emphasis on attendee experience,Greater focus on sustainability,Enhanced data analytics for decision making,Hybrid event formats,Increased use of AI and technology",
          "Greater emphasis on attendee experience,Greater focus on sustainability,Hybrid event formats,Enhanced data analytics for decision making,Increased use of AI and technology",
          "Greater emphasis on attendee experience,Hybrid event formats,Enhanced data analytics for decision making,Increased use of AI and technology,Greater focus on sustainability",
          "Greater emphasis on attendee experience,Increased use of AI and technology,Greater focus on sustainability,Enhanced data analytics for decision making,Hybrid event formats",
          "Greater emphasis on attendee experience,Increased use of AI and technology,Greater focus on sustainability,Hybrid event formats,Enhanced data analytics for decision making",
          "Greater emphasis on attendee experience,Increased use of AI and technology,Hybrid event formats,Greater focus on sustainability,Enhanced data analytics for decision making",
          "Greater focus on sustainability,Greater emphasis on attendee experience,Enhanced data analytics for decision making,Increased use of AI and technology,Hybrid event formats",
          "Greater focus on sustainability,Greater emphasis on attendee experience,Increased use of AI and technology,Enhanced data analytics for decision making,Hybrid event formats",
          "Greater focus on sustainability,Greater emphasis on attendee experience,Increased use of AI and technology,Hybrid event formats,Enhanced data analytics for decision making",
          "Greater focus on sustainability,Hybrid event formats,Increased use of AI and technology,Enhanced data analytics for decision making,Greater emphasis on attendee experience",
          "Greater focus on sustainability,Increased use of AI and technology,Greater emphasis on attendee experience,Enhanced data analytics for decision making,Hybrid event formats",
          "Hybrid event formats,Enhanced data analytics for decision making,Greater focus on sustainability,Greater emphasis on attendee experience,Increased use of AI and technology",
          "Hybrid event formats,Greater emphasis on attendee experience,Enhanced data analytics for decision making,Increased use of AI and technology,Greater focus on sustainability",
          "Hybrid event formats,Greater focus on sustainability,Increased use of AI and technology,Greater emphasis on attendee experience,Enhanced data analytics for decision making",
          "Increased use of AI and technology,Enhanced data analytics for decision making,Greater emphasis on attendee experience,Greater focus on sustainability,Hybrid event formats",
          "Increased use of AI and technology,Enhanced data analytics for decision making,Greater emphasis on attendee experience,Hybrid event formats,Greater focus on sustainability",
          "Increased use of AI and technology,Greater emphasis on attendee experience,Enhanced data analytics for decision making,Greater focus on sustainability,Hybrid event formats",
          "Increased use of AI and technology,Greater emphasis on attendee experience,Greater focus on sustainability,Enhanced data analytics for decision making,Hybrid event formats",
          "Increased use of AI and technology,Greater emphasis on attendee experience,Greater focus on sustainability,Hybrid event formats,Enhanced data analytics for decision making",
          "Increased use of AI and technology,Greater emphasis on attendee experience,Hybrid event formats,Enhanced data analytics for decision making,Greater focus on sustainability",
          "Increased use of AI and technology,Greater emphasis on attendee experience,Hybrid event formats,Greater focus on sustainability,Enhanced data analytics for decision making",
          "Increased use of AI and technology,Greater focus on sustainability,Enhanced data analytics for decision making,Greater emphasis on attendee experience,Hybrid event formats",
          "Increased use of AI and technology,Greater focus on sustainability,Greater emphasis on attendee experience,Enhanced data analytics for decision making,Hybrid event formats",
          "Increased use of AI and technology,Hybrid event formats,Enhanced data analytics for decision making,Greater focus on sustainability,Greater emphasis on attendee experience"
         ],
         "name": "In your opinion, rank what event trends will shape the future of the events industry",
         "pull": [
          0.05,
          0.05,
          0.05,
          0.05,
          0.05,
          0.05,
          0.05,
          0.05,
          0.05,
          0.05,
          0.05,
          0.05,
          0.05,
          0.05,
          0.05,
          0.05,
          0.05,
          0.05,
          0.05,
          0.05,
          0.05,
          0.05,
          0.05,
          0.05,
          0.05,
          0.05,
          0.05,
          0.05,
          0.05,
          0.05,
          0.05
         ],
         "showlegend": false,
         "type": "pie",
         "values": [
          "Other",
          "Other",
          "Other",
          "Other",
          "Other",
          3,
          "Other",
          "Other",
          "Other",
          "Other",
          "Other",
          3,
          "Other",
          "Other",
          "Other",
          2,
          2,
          "Other",
          "Other",
          "Other",
          "Other",
          5,
          "Other",
          7,
          "Other",
          2,
          2,
          "Other",
          3,
          5,
          "Other"
         ],
         "visible": false
        },
        {
         "hole": 0.3,
         "hoverinfo": "label+percent+value",
         "hovertemplate": "<b>%{label}</b><br>Count: %{value}<br>Percent: %{percent:.2%}<extra></extra>",
         "labels": [
          "Considering it",
          "No",
          "Yes"
         ],
         "name": "Are you currently using AI in your event planning and management processes?",
         "pull": [
          0.05,
          0.05,
          0.05
         ],
         "showlegend": true,
         "type": "pie",
         "values": [
          16,
          18,
          24
         ],
         "visible": false
        },
        {
         "hole": 0.3,
         "hoverinfo": "label+percent+value",
         "hovertemplate": "<b>%{label}</b><br>Count: %{value}<br>Percent: %{percent:.2%}<extra></extra>",
         "labels": [
          "12 months +",
          "3-6month",
          "6 months",
          "Up to 3months"
         ],
         "name": "On average, what notice are you given to plan your stakeholder events?",
         "pull": [
          0.05,
          0.05,
          0.05,
          0.05
         ],
         "showlegend": true,
         "type": "pie",
         "values": [
          2,
          4,
          8,
          "Other"
         ],
         "visible": false
        },
        {
         "hole": 0.3,
         "hoverinfo": "label+percent+value",
         "hovertemplate": "<b>%{label}</b><br>Count: %{value}<br>Percent: %{percent:.2%}<extra></extra>",
         "labels": [
          "Neutral",
          "Somewhat comfortable",
          "Somewhat uncomfortable",
          "Very comfortable",
          "Very uncomfortable"
         ],
         "name": "How comfortable are you with the current use of AI and technology in the events industry?",
         "pull": [
          0.05,
          0.05,
          0.05,
          0.05,
          0.05
         ],
         "showlegend": true,
         "type": "pie",
         "values": [
          11,
          18,
          6,
          3,
          2
         ],
         "visible": false
        },
        {
         "hole": 0.3,
         "hoverinfo": "label+percent+value",
         "hovertemplate": "<b>%{label}</b><br>Count: %{value}<br>Percent: %{percent:.2%}<extra></extra>",
         "labels": [
          "I consider myself to be an event technologist",
          "I don’t know",
          "Someone else in my team has the role of event technologist",
          "We expect to hire an event technologist in the next few years",
          "We have no intention of hiring an event technologist"
         ],
         "name": "Does your team include someone who occupies the role of event technologist?",
         "pull": [
          0.05,
          0.05,
          0.05,
          0.05,
          0.05
         ],
         "showlegend": true,
         "type": "pie",
         "values": [
          8,
          5,
          14,
          3,
          28
         ],
         "visible": false
        },
        {
         "hole": 0.3,
         "hoverinfo": "label+percent+value",
         "hovertemplate": "<b>%{label}</b><br>Count: %{value}<br>Percent: %{percent:.2%}<extra></extra>",
         "labels": [
          "Career growth/compensation,Company culture,Salary/compensation,Holiday allowance,Working from home,Work life balance",
          "Career growth/compensation,Company culture,Salary/compensation,Work life balance,Working from home,Holiday allowance",
          "Career growth/compensation,Company culture,Work life balance,Salary/compensation,Working from home,Holiday allowance",
          "Career growth/compensation,Salary/compensation,Work life balance,Company culture,Working from home,Holiday allowance",
          "Career growth/compensation,Work life balance,Company culture,Salary/compensation,Working from home,Holiday allowance",
          "Company culture,Career growth/compensation,Salary/compensation,Work life balance,Working from home,Holiday allowance",
          "Company culture,Career growth/compensation,Salary/compensation,Working from home,Work life balance,Holiday allowance",
          "Company culture,Career growth/compensation,Work life balance,Salary/compensation,Holiday allowance,Working from home",
          "Company culture,Holiday allowance,Salary/compensation,Working from home,Work life balance,Career growth/compensation",
          "Company culture,Holiday allowance,Working from home,Work life balance,Salary/compensation,Career growth/compensation",
          "Company culture,Salary/compensation,Work life balance,Holiday allowance,Working from home,Career growth/compensation",
          "Company culture,Salary/compensation,Working from home,Career growth/compensation,Work life balance,Holiday allowance",
          "Company culture,Salary/compensation,Working from home,Work life balance,Career growth/compensation,Holiday allowance",
          "Company culture,Work life balance,Salary/compensation,Career growth/compensation,Working from home,Holiday allowance",
          "Company culture,Work life balance,Working from home,Career growth/compensation,Holiday allowance,Salary/compensation",
          "Company culture,Work life balance,Working from home,Career growth/compensation,Salary/compensation,Holiday allowance",
          "Company culture,Working from home,Salary/compensation,Career growth/compensation,Holiday allowance,Work life balance",
          "Company culture,Working from home,Salary/compensation,Work life balance,Career growth/compensation,Holiday allowance",
          "Salary/compensation,Career growth/compensation,Company culture,Holiday allowance,Work life balance,Working from home",
          "Salary/compensation,Career growth/compensation,Company culture,Holiday allowance,Working from home,Work life balance",
          "Salary/compensation,Career growth/compensation,Company culture,Work life balance,Holiday allowance,Working from home",
          "Salary/compensation,Career growth/compensation,Working from home,Company culture,Work life balance,Holiday allowance",
          "Salary/compensation,Company culture,Career growth/compensation,Holiday allowance,Work life balance,Working from home",
          "Salary/compensation,Company culture,Work life balance,Career growth/compensation,Working from home,Holiday allowance",
          "Salary/compensation,Company culture,Work life balance,Holiday allowance,Career growth/compensation,Working from home",
          "Salary/compensation,Company culture,Work life balance,Working from home,Holiday allowance,Career growth/compensation",
          "Salary/compensation,Company culture,Working from home,Career growth/compensation,Work life balance,Holiday allowance",
          "Salary/compensation,Company culture,Working from home,Work life balance,Career growth/compensation,Holiday allowance",
          "Salary/compensation,Company culture,Working from home,Work life balance,Holiday allowance,Career growth/compensation",
          "Salary/compensation,Holiday allowance,Working from home,Work life balance,Career growth/compensation,Company culture",
          "Salary/compensation,Work life balance,Company culture,Working from home,Holiday allowance,Career growth/compensation",
          "Salary/compensation,Work life balance,Holiday allowance,Company culture,Career growth/compensation,Working from home",
          "Salary/compensation,Work life balance,Working from home,Holiday allowance,Career growth/compensation,Company culture",
          "Salary/compensation,Working from home,Holiday allowance,Work life balance,Career growth/compensation,Company culture",
          "Salary/compensation,Working from home,Holiday allowance,Work life balance,Company culture,Career growth/compensation",
          "Salary/compensation,Working from home,Work life balance,Company culture,Career growth/compensation,Holiday allowance",
          "Work life balance,Company culture,Career growth/compensation,Salary/compensation,Holiday allowance,Working from home",
          "Work life balance,Company culture,Salary/compensation,Career growth/compensation,Working from home,Holiday allowance",
          "Work life balance,Company culture,Salary/compensation,Holiday allowance,Working from home,Career growth/compensation",
          "Work life balance,Company culture,Salary/compensation,Working from home,Holiday allowance,Career growth/compensation",
          "Work life balance,Salary/compensation,Company culture,Career growth/compensation,Working from home,Holiday allowance",
          "Work life balance,Salary/compensation,Working from home,Career growth/compensation,Company culture,Holiday allowance",
          "Work life balance,Salary/compensation,Working from home,Company culture,Career growth/compensation,Holiday allowance",
          "Work life balance,Salary/compensation,Working from home,Holiday allowance,Company culture,Career growth/compensation",
          "Work life balance,Working from home,Career growth/compensation,Salary/compensation,Company culture,Holiday allowance",
          "Working from home,Company culture,Work life balance,Salary/compensation,Career growth/compensation,Holiday allowance",
          "Working from home,Company culture,Work life balance,Salary/compensation,Holiday allowance,Career growth/compensation",
          "Working from home,Holiday allowance,Company culture,Work life balance,Salary/compensation,Career growth/compensation",
          "Working from home,Salary/compensation,Holiday allowance,Work life balance,Company culture,Career growth/compensation",
          "Working from home,Salary/compensation,Work life balance,Holiday allowance,Company culture,Career growth/compensation",
          "Working from home,Work life balance,Company culture,Salary/compensation,Holiday allowance,Career growth/compensation",
          "Working from home,Work life balance,Salary/compensation,Holiday allowance,Career growth/compensation,Company culture"
         ],
         "name": "Please rank how important the following are when choosing a new job role.",
         "pull": [
          0.05,
          0.05,
          0.05,
          0.05,
          0.05,
          0.05,
          0.05,
          0.05,
          0.05,
          0.05,
          0.05,
          0.05,
          0.05,
          0.05,
          0.05,
          0.05,
          0.05,
          0.05,
          0.05,
          0.05,
          0.05,
          0.05,
          0.05,
          0.05,
          0.05,
          0.05,
          0.05,
          0.05,
          0.05,
          0.05,
          0.05,
          0.05,
          0.05,
          0.05,
          0.05,
          0.05,
          0.05,
          0.05,
          0.05,
          0.05,
          0.05,
          0.05,
          0.05,
          0.05,
          0.05,
          0.05,
          0.05,
          0.05,
          0.05,
          0.05,
          0.05,
          0.05
         ],
         "showlegend": false,
         "type": "pie",
         "values": [
          "Other",
          "Other",
          "Other",
          "Other",
          "Other",
          "Other",
          "Other",
          "Other",
          "Other",
          "Other",
          "Other",
          "Other",
          "Other",
          2,
          "Other",
          "Other",
          "Other",
          "Other",
          "Other",
          "Other",
          2,
          2,
          "Other",
          "Other",
          "Other",
          "Other",
          "Other",
          "Other",
          "Other",
          "Other",
          "Other",
          "Other",
          "Other",
          "Other",
          3,
          "Other",
          "Other",
          "Other",
          "Other",
          "Other",
          "Other",
          "Other",
          "Other",
          "Other",
          "Other",
          "Other",
          "Other",
          "Other",
          "Other",
          "Other",
          "Other",
          "Other"
         ],
         "visible": false
        },
        {
         "hole": 0.3,
         "hoverinfo": "label+percent+value",
         "hovertemplate": "<b>%{label}</b><br>Count: %{value}<br>Percent: %{percent:.2%}<extra></extra>",
         "labels": [
          "Brand and corporate affairs",
          "CEO",
          "Events",
          "External Affairs",
          "Logistics",
          "Marketing & Communications",
          "Membership & Commercial Development",
          "Operations",
          "Procurement",
          "Sales",
          "Sales & Marketing",
          "Standalone events team"
         ],
         "name": "What area of the company does your job sit? (Select one)",
         "pull": [
          0.05,
          0.05,
          0.05,
          0.05,
          0.05,
          0.05,
          0.05,
          0.05,
          0.05,
          0.05,
          0.05,
          0.05
         ],
         "showlegend": false,
         "type": "pie",
         "values": [
          "Other",
          3,
          "Other",
          "Other",
          "Other",
          35,
          "Other",
          "Other",
          "Other",
          3,
          7,
          "Other"
         ],
         "visible": false
        },
        {
         "hole": 0.3,
         "hoverinfo": "label+percent+value",
         "hovertemplate": "<b>%{label}</b><br>Count: %{value}<br>Percent: %{percent:.2%}<extra></extra>",
         "labels": [
          "25-34",
          "35-44",
          "45-54",
          "55-64",
          "Under 25"
         ],
         "name": "Which age group do you belong to?",
         "pull": [
          0.05,
          0.05,
          0.05,
          0.05,
          0.05
         ],
         "showlegend": true,
         "type": "pie",
         "values": [
          8,
          21,
          22,
          4,
          "Other"
         ],
         "visible": false
        },
        {
         "hole": 0.3,
         "hoverinfo": "label+percent+value",
         "hovertemplate": "<b>%{label}</b><br>Count: %{value}<br>Percent: %{percent:.2%}<extra></extra>",
         "labels": [
          "Bachelor's degree",
          "Master's degree",
          "Senior school diploma or equivalent",
          "Technical degree level"
         ],
         "name": "What is your highest level of education?",
         "pull": [
          0.05,
          0.05,
          0.05,
          0.05
         ],
         "showlegend": true,
         "type": "pie",
         "values": [
          31,
          13,
          10,
          3
         ],
         "visible": false
        },
        {
         "hole": 0.3,
         "hoverinfo": "label+percent+value",
         "hovertemplate": "<b>%{label}</b><br>Count: %{value}<br>Percent: %{percent:.2%}<extra></extra>",
         "labels": [
          "Decreasing",
          "Increasing",
          "Staying the same"
         ],
         "name": "Do you see the number increasing, decreasing or staying the same over next 12 months",
         "pull": [
          0.05,
          0.05,
          0.05
         ],
         "showlegend": true,
         "type": "pie",
         "values": [
          2,
          21,
          23
         ],
         "visible": false
        },
        {
         "hole": 0.3,
         "hoverinfo": "label+percent+value",
         "hovertemplate": "<b>%{label}</b><br>Count: %{value}<br>Percent: %{percent:.2%}<extra></extra>",
         "labels": [
          "1-10",
          "1-30",
          "100",
          "30-60",
          "60-100"
         ],
         "name": "How many events does your team organise per year?",
         "pull": [
          0.05,
          0.05,
          0.05,
          0.05,
          0.05
         ],
         "showlegend": true,
         "type": "pie",
         "values": [
          7,
          20,
          12,
          9,
          10
         ],
         "visible": false
        },
        {
         "hole": 0.3,
         "hoverinfo": "label+percent+value",
         "hovertemplate": "<b>%{label}</b><br>Count: %{value}<br>Percent: %{percent:.2%}<extra></extra>",
         "labels": [
          "Don’t know",
          "£150-250",
          "£251-£400",
          "£400-600",
          "£600-£800"
         ],
         "name": "On average, what is the cost per day for event freelancers",
         "pull": [
          0.05,
          0.05,
          0.05,
          0.05,
          0.05
         ],
         "showlegend": true,
         "type": "pie",
         "values": [
          32,
          4,
          6,
          6,
          6
         ],
         "visible": false
        },
        {
         "hole": 0.3,
         "hoverinfo": "label+percent+value",
         "hovertemplate": "<b>%{label}</b><br>Count: %{value}<br>Percent: %{percent:.2%}<extra></extra>",
         "labels": [
          1,
          3,
          4,
          5,
          7,
          8,
          9,
          10
         ],
         "name": "How likely are you to recommend ICE to a friend or colleague?",
         "pull": [
          0.05,
          0.05,
          0.05,
          0.05,
          0.05,
          0.05,
          0.05,
          0.05
         ],
         "showlegend": false,
         "type": "pie",
         "values": [
          "Other",
          "Other",
          "Other",
          4,
          3,
          11,
          8,
          29
         ],
         "visible": false
        }
       ],
       "layout": {
        "height": 700,
        "legend": {
         "orientation": "h",
         "x": 0.5,
         "xanchor": "center",
         "y": -0.2,
         "yanchor": "bottom"
        },
        "margin": {
         "b": 100,
         "l": 0,
         "r": 0,
         "t": 120
        },
        "template": {
         "data": {
          "bar": [
           {
            "error_x": {
             "color": "#2a3f5f"
            },
            "error_y": {
             "color": "#2a3f5f"
            },
            "marker": {
             "line": {
              "color": "#E5ECF6",
              "width": 0.5
             },
             "pattern": {
              "fillmode": "overlay",
              "size": 10,
              "solidity": 0.2
             }
            },
            "type": "bar"
           }
          ],
          "barpolar": [
           {
            "marker": {
             "line": {
              "color": "#E5ECF6",
              "width": 0.5
             },
             "pattern": {
              "fillmode": "overlay",
              "size": 10,
              "solidity": 0.2
             }
            },
            "type": "barpolar"
           }
          ],
          "carpet": [
           {
            "aaxis": {
             "endlinecolor": "#2a3f5f",
             "gridcolor": "white",
             "linecolor": "white",
             "minorgridcolor": "white",
             "startlinecolor": "#2a3f5f"
            },
            "baxis": {
             "endlinecolor": "#2a3f5f",
             "gridcolor": "white",
             "linecolor": "white",
             "minorgridcolor": "white",
             "startlinecolor": "#2a3f5f"
            },
            "type": "carpet"
           }
          ],
          "choropleth": [
           {
            "colorbar": {
             "outlinewidth": 0,
             "ticks": ""
            },
            "type": "choropleth"
           }
          ],
          "contour": [
           {
            "colorbar": {
             "outlinewidth": 0,
             "ticks": ""
            },
            "colorscale": [
             [
              0,
              "#0d0887"
             ],
             [
              0.1111111111111111,
              "#46039f"
             ],
             [
              0.2222222222222222,
              "#7201a8"
             ],
             [
              0.3333333333333333,
              "#9c179e"
             ],
             [
              0.4444444444444444,
              "#bd3786"
             ],
             [
              0.5555555555555556,
              "#d8576b"
             ],
             [
              0.6666666666666666,
              "#ed7953"
             ],
             [
              0.7777777777777778,
              "#fb9f3a"
             ],
             [
              0.8888888888888888,
              "#fdca26"
             ],
             [
              1,
              "#f0f921"
             ]
            ],
            "type": "contour"
           }
          ],
          "contourcarpet": [
           {
            "colorbar": {
             "outlinewidth": 0,
             "ticks": ""
            },
            "type": "contourcarpet"
           }
          ],
          "heatmap": [
           {
            "colorbar": {
             "outlinewidth": 0,
             "ticks": ""
            },
            "colorscale": [
             [
              0,
              "#0d0887"
             ],
             [
              0.1111111111111111,
              "#46039f"
             ],
             [
              0.2222222222222222,
              "#7201a8"
             ],
             [
              0.3333333333333333,
              "#9c179e"
             ],
             [
              0.4444444444444444,
              "#bd3786"
             ],
             [
              0.5555555555555556,
              "#d8576b"
             ],
             [
              0.6666666666666666,
              "#ed7953"
             ],
             [
              0.7777777777777778,
              "#fb9f3a"
             ],
             [
              0.8888888888888888,
              "#fdca26"
             ],
             [
              1,
              "#f0f921"
             ]
            ],
            "type": "heatmap"
           }
          ],
          "heatmapgl": [
           {
            "colorbar": {
             "outlinewidth": 0,
             "ticks": ""
            },
            "colorscale": [
             [
              0,
              "#0d0887"
             ],
             [
              0.1111111111111111,
              "#46039f"
             ],
             [
              0.2222222222222222,
              "#7201a8"
             ],
             [
              0.3333333333333333,
              "#9c179e"
             ],
             [
              0.4444444444444444,
              "#bd3786"
             ],
             [
              0.5555555555555556,
              "#d8576b"
             ],
             [
              0.6666666666666666,
              "#ed7953"
             ],
             [
              0.7777777777777778,
              "#fb9f3a"
             ],
             [
              0.8888888888888888,
              "#fdca26"
             ],
             [
              1,
              "#f0f921"
             ]
            ],
            "type": "heatmapgl"
           }
          ],
          "histogram": [
           {
            "marker": {
             "pattern": {
              "fillmode": "overlay",
              "size": 10,
              "solidity": 0.2
             }
            },
            "type": "histogram"
           }
          ],
          "histogram2d": [
           {
            "colorbar": {
             "outlinewidth": 0,
             "ticks": ""
            },
            "colorscale": [
             [
              0,
              "#0d0887"
             ],
             [
              0.1111111111111111,
              "#46039f"
             ],
             [
              0.2222222222222222,
              "#7201a8"
             ],
             [
              0.3333333333333333,
              "#9c179e"
             ],
             [
              0.4444444444444444,
              "#bd3786"
             ],
             [
              0.5555555555555556,
              "#d8576b"
             ],
             [
              0.6666666666666666,
              "#ed7953"
             ],
             [
              0.7777777777777778,
              "#fb9f3a"
             ],
             [
              0.8888888888888888,
              "#fdca26"
             ],
             [
              1,
              "#f0f921"
             ]
            ],
            "type": "histogram2d"
           }
          ],
          "histogram2dcontour": [
           {
            "colorbar": {
             "outlinewidth": 0,
             "ticks": ""
            },
            "colorscale": [
             [
              0,
              "#0d0887"
             ],
             [
              0.1111111111111111,
              "#46039f"
             ],
             [
              0.2222222222222222,
              "#7201a8"
             ],
             [
              0.3333333333333333,
              "#9c179e"
             ],
             [
              0.4444444444444444,
              "#bd3786"
             ],
             [
              0.5555555555555556,
              "#d8576b"
             ],
             [
              0.6666666666666666,
              "#ed7953"
             ],
             [
              0.7777777777777778,
              "#fb9f3a"
             ],
             [
              0.8888888888888888,
              "#fdca26"
             ],
             [
              1,
              "#f0f921"
             ]
            ],
            "type": "histogram2dcontour"
           }
          ],
          "mesh3d": [
           {
            "colorbar": {
             "outlinewidth": 0,
             "ticks": ""
            },
            "type": "mesh3d"
           }
          ],
          "parcoords": [
           {
            "line": {
             "colorbar": {
              "outlinewidth": 0,
              "ticks": ""
             }
            },
            "type": "parcoords"
           }
          ],
          "pie": [
           {
            "automargin": true,
            "type": "pie"
           }
          ],
          "scatter": [
           {
            "fillpattern": {
             "fillmode": "overlay",
             "size": 10,
             "solidity": 0.2
            },
            "type": "scatter"
           }
          ],
          "scatter3d": [
           {
            "line": {
             "colorbar": {
              "outlinewidth": 0,
              "ticks": ""
             }
            },
            "marker": {
             "colorbar": {
              "outlinewidth": 0,
              "ticks": ""
             }
            },
            "type": "scatter3d"
           }
          ],
          "scattercarpet": [
           {
            "marker": {
             "colorbar": {
              "outlinewidth": 0,
              "ticks": ""
             }
            },
            "type": "scattercarpet"
           }
          ],
          "scattergeo": [
           {
            "marker": {
             "colorbar": {
              "outlinewidth": 0,
              "ticks": ""
             }
            },
            "type": "scattergeo"
           }
          ],
          "scattergl": [
           {
            "marker": {
             "colorbar": {
              "outlinewidth": 0,
              "ticks": ""
             }
            },
            "type": "scattergl"
           }
          ],
          "scattermapbox": [
           {
            "marker": {
             "colorbar": {
              "outlinewidth": 0,
              "ticks": ""
             }
            },
            "type": "scattermapbox"
           }
          ],
          "scatterpolar": [
           {
            "marker": {
             "colorbar": {
              "outlinewidth": 0,
              "ticks": ""
             }
            },
            "type": "scatterpolar"
           }
          ],
          "scatterpolargl": [
           {
            "marker": {
             "colorbar": {
              "outlinewidth": 0,
              "ticks": ""
             }
            },
            "type": "scatterpolargl"
           }
          ],
          "scatterternary": [
           {
            "marker": {
             "colorbar": {
              "outlinewidth": 0,
              "ticks": ""
             }
            },
            "type": "scatterternary"
           }
          ],
          "surface": [
           {
            "colorbar": {
             "outlinewidth": 0,
             "ticks": ""
            },
            "colorscale": [
             [
              0,
              "#0d0887"
             ],
             [
              0.1111111111111111,
              "#46039f"
             ],
             [
              0.2222222222222222,
              "#7201a8"
             ],
             [
              0.3333333333333333,
              "#9c179e"
             ],
             [
              0.4444444444444444,
              "#bd3786"
             ],
             [
              0.5555555555555556,
              "#d8576b"
             ],
             [
              0.6666666666666666,
              "#ed7953"
             ],
             [
              0.7777777777777778,
              "#fb9f3a"
             ],
             [
              0.8888888888888888,
              "#fdca26"
             ],
             [
              1,
              "#f0f921"
             ]
            ],
            "type": "surface"
           }
          ],
          "table": [
           {
            "cells": {
             "fill": {
              "color": "#EBF0F8"
             },
             "line": {
              "color": "white"
             }
            },
            "header": {
             "fill": {
              "color": "#C8D4E3"
             },
             "line": {
              "color": "white"
             }
            },
            "type": "table"
           }
          ]
         },
         "layout": {
          "annotationdefaults": {
           "arrowcolor": "#2a3f5f",
           "arrowhead": 0,
           "arrowwidth": 1
          },
          "autotypenumbers": "strict",
          "coloraxis": {
           "colorbar": {
            "outlinewidth": 0,
            "ticks": ""
           }
          },
          "colorscale": {
           "diverging": [
            [
             0,
             "#8e0152"
            ],
            [
             0.1,
             "#c51b7d"
            ],
            [
             0.2,
             "#de77ae"
            ],
            [
             0.3,
             "#f1b6da"
            ],
            [
             0.4,
             "#fde0ef"
            ],
            [
             0.5,
             "#f7f7f7"
            ],
            [
             0.6,
             "#e6f5d0"
            ],
            [
             0.7,
             "#b8e186"
            ],
            [
             0.8,
             "#7fbc41"
            ],
            [
             0.9,
             "#4d9221"
            ],
            [
             1,
             "#276419"
            ]
           ],
           "sequential": [
            [
             0,
             "#0d0887"
            ],
            [
             0.1111111111111111,
             "#46039f"
            ],
            [
             0.2222222222222222,
             "#7201a8"
            ],
            [
             0.3333333333333333,
             "#9c179e"
            ],
            [
             0.4444444444444444,
             "#bd3786"
            ],
            [
             0.5555555555555556,
             "#d8576b"
            ],
            [
             0.6666666666666666,
             "#ed7953"
            ],
            [
             0.7777777777777778,
             "#fb9f3a"
            ],
            [
             0.8888888888888888,
             "#fdca26"
            ],
            [
             1,
             "#f0f921"
            ]
           ],
           "sequentialminus": [
            [
             0,
             "#0d0887"
            ],
            [
             0.1111111111111111,
             "#46039f"
            ],
            [
             0.2222222222222222,
             "#7201a8"
            ],
            [
             0.3333333333333333,
             "#9c179e"
            ],
            [
             0.4444444444444444,
             "#bd3786"
            ],
            [
             0.5555555555555556,
             "#d8576b"
            ],
            [
             0.6666666666666666,
             "#ed7953"
            ],
            [
             0.7777777777777778,
             "#fb9f3a"
            ],
            [
             0.8888888888888888,
             "#fdca26"
            ],
            [
             1,
             "#f0f921"
            ]
           ]
          },
          "colorway": [
           "#636efa",
           "#EF553B",
           "#00cc96",
           "#ab63fa",
           "#FFA15A",
           "#19d3f3",
           "#FF6692",
           "#B6E880",
           "#FF97FF",
           "#FECB52"
          ],
          "font": {
           "color": "#2a3f5f"
          },
          "geo": {
           "bgcolor": "white",
           "lakecolor": "white",
           "landcolor": "#E5ECF6",
           "showlakes": true,
           "showland": true,
           "subunitcolor": "white"
          },
          "hoverlabel": {
           "align": "left"
          },
          "hovermode": "closest",
          "mapbox": {
           "style": "light"
          },
          "paper_bgcolor": "white",
          "plot_bgcolor": "#E5ECF6",
          "polar": {
           "angularaxis": {
            "gridcolor": "white",
            "linecolor": "white",
            "ticks": ""
           },
           "bgcolor": "#E5ECF6",
           "radialaxis": {
            "gridcolor": "white",
            "linecolor": "white",
            "ticks": ""
           }
          },
          "scene": {
           "xaxis": {
            "backgroundcolor": "#E5ECF6",
            "gridcolor": "white",
            "gridwidth": 2,
            "linecolor": "white",
            "showbackground": true,
            "ticks": "",
            "zerolinecolor": "white"
           },
           "yaxis": {
            "backgroundcolor": "#E5ECF6",
            "gridcolor": "white",
            "gridwidth": 2,
            "linecolor": "white",
            "showbackground": true,
            "ticks": "",
            "zerolinecolor": "white"
           },
           "zaxis": {
            "backgroundcolor": "#E5ECF6",
            "gridcolor": "white",
            "gridwidth": 2,
            "linecolor": "white",
            "showbackground": true,
            "ticks": "",
            "zerolinecolor": "white"
           }
          },
          "shapedefaults": {
           "line": {
            "color": "#2a3f5f"
           }
          },
          "ternary": {
           "aaxis": {
            "gridcolor": "white",
            "linecolor": "white",
            "ticks": ""
           },
           "baxis": {
            "gridcolor": "white",
            "linecolor": "white",
            "ticks": ""
           },
           "bgcolor": "#E5ECF6",
           "caxis": {
            "gridcolor": "white",
            "linecolor": "white",
            "ticks": ""
           }
          },
          "title": {
           "x": 0.05
          },
          "xaxis": {
           "automargin": true,
           "gridcolor": "white",
           "linecolor": "white",
           "ticks": "",
           "title": {
            "standoff": 15
           },
           "zerolinecolor": "white",
           "zerolinewidth": 2
          },
          "yaxis": {
           "automargin": true,
           "gridcolor": "white",
           "linecolor": "white",
           "ticks": "",
           "title": {
            "standoff": 15
           },
           "zerolinecolor": "white",
           "zerolinewidth": 2
          }
         }
        },
        "title": {
         "font": {
          "size": 20
         },
         "text": "Totals for Column 0 (Do you identify more as: An Event Strategist or An Event Deliverer )",
         "x": 0.5,
         "xanchor": "center"
        },
        "transition": {
         "duration": 2000,
         "easing": "bounce-in-out"
        },
        "updatemenus": [
         {
          "bgcolor": "lightgrey",
          "buttons": [
           {
            "args": [
             {
              "visible": [
               true,
               false,
               false,
               false,
               false,
               false,
               false,
               false,
               false,
               false,
               false,
               false,
               false,
               false,
               false,
               false,
               false,
               false,
               false
              ]
             },
             {
              "title": "Totals for Column 1 (Do you identify more as: An Event Strategist or An Event Deliverer )"
             }
            ],
            "label": "Q 0: Do you identify...",
            "method": "update"
           },
           {
            "args": [
             {
              "visible": [
               false,
               true,
               false,
               false,
               false,
               false,
               false,
               false,
               false,
               false,
               false,
               false,
               false,
               false,
               false,
               false,
               false,
               false,
               false
              ]
             },
             {
              "title": "Totals for Column 2 (What best describes your job role?)"
             }
            ],
            "label": "Q 1: What best descr...",
            "method": "update"
           },
           {
            "args": [
             {
              "visible": [
               false,
               false,
               true,
               false,
               false,
               false,
               false,
               false,
               false,
               false,
               false,
               false,
               false,
               false,
               false,
               false,
               false,
               false,
               false
              ]
             },
             {
              "title": "Totals for Column 3 (Who is responsible for setting the event budget?)"
             }
            ],
            "label": "Q 2: Who is responsi...",
            "method": "update"
           },
           {
            "args": [
             {
              "visible": [
               false,
               false,
               false,
               true,
               false,
               false,
               false,
               false,
               false,
               false,
               false,
               false,
               false,
               false,
               false,
               false,
               false,
               false,
               false
              ]
             },
             {
              "title": "Totals for Column 4 (Who is responsible for tracking the commercial follow-up of events in your organisation?)"
             }
            ],
            "label": "Q 3: Who is responsi...",
            "method": "update"
           },
           {
            "args": [
             {
              "visible": [
               false,
               false,
               false,
               false,
               true,
               false,
               false,
               false,
               false,
               false,
               false,
               false,
               false,
               false,
               false,
               false,
               false,
               false,
               false
              ]
             },
             {
              "title": "Totals for Column 5 (How much advance notice do your stakeholders provide when organising events?)"
             }
            ],
            "label": "Q 4: How much advanc...",
            "method": "update"
           },
           {
            "args": [
             {
              "visible": [
               false,
               false,
               false,
               false,
               false,
               true,
               false,
               false,
               false,
               false,
               false,
               false,
               false,
               false,
               false,
               false,
               false,
               false,
               false
              ]
             },
             {
              "title": "Totals for Column 6 (Do you receive feedback or data on the commercial outcomes of your events?)"
             }
            ],
            "label": "Q 5: Do you receive ...",
            "method": "update"
           },
           {
            "args": [
             {
              "visible": [
               false,
               false,
               false,
               false,
               false,
               false,
               true,
               false,
               false,
               false,
               false,
               false,
               false,
               false,
               false,
               false,
               false,
               false,
               false
              ]
             },
             {
              "title": "Totals for Column 7 (In your opinion, rank what event trends will shape the future of the events industry)"
             }
            ],
            "label": "Q 6: In your opinion...",
            "method": "update"
           },
           {
            "args": [
             {
              "visible": [
               false,
               false,
               false,
               false,
               false,
               false,
               false,
               true,
               false,
               false,
               false,
               false,
               false,
               false,
               false,
               false,
               false,
               false,
               false
              ]
             },
             {
              "title": "Totals for Column 8 (Are you currently using AI in your event planning and management processes?)"
             }
            ],
            "label": "Q 7: Are you current...",
            "method": "update"
           },
           {
            "args": [
             {
              "visible": [
               false,
               false,
               false,
               false,
               false,
               false,
               false,
               false,
               true,
               false,
               false,
               false,
               false,
               false,
               false,
               false,
               false,
               false,
               false
              ]
             },
             {
              "title": "Totals for Column 9 (On average, what notice are you given to plan your stakeholder events?)"
             }
            ],
            "label": "Q 8: On average, wha...",
            "method": "update"
           },
           {
            "args": [
             {
              "visible": [
               false,
               false,
               false,
               false,
               false,
               false,
               false,
               false,
               false,
               true,
               false,
               false,
               false,
               false,
               false,
               false,
               false,
               false,
               false
              ]
             },
             {
              "title": "Totals for Column 10 (How comfortable are you with the current use of AI and technology in the events industry?)"
             }
            ],
            "label": "Q 9: How comfortable...",
            "method": "update"
           },
           {
            "args": [
             {
              "visible": [
               false,
               false,
               false,
               false,
               false,
               false,
               false,
               false,
               false,
               false,
               true,
               false,
               false,
               false,
               false,
               false,
               false,
               false,
               false
              ]
             },
             {
              "title": "Totals for Column 11 (Does your team include someone who occupies the role of event technologist?)"
             }
            ],
            "label": "Q 10: Does your team ...",
            "method": "update"
           },
           {
            "args": [
             {
              "visible": [
               false,
               false,
               false,
               false,
               false,
               false,
               false,
               false,
               false,
               false,
               false,
               true,
               false,
               false,
               false,
               false,
               false,
               false,
               false
              ]
             },
             {
              "title": "Totals for Column 12 (Please rank how important the following are when choosing a new job role.)"
             }
            ],
            "label": "Q 11: Please rank how...",
            "method": "update"
           },
           {
            "args": [
             {
              "visible": [
               false,
               false,
               false,
               false,
               false,
               false,
               false,
               false,
               false,
               false,
               false,
               false,
               true,
               false,
               false,
               false,
               false,
               false,
               false
              ]
             },
             {
              "title": "Totals for Column 13 (What area of the company does your job sit? (Select one))"
             }
            ],
            "label": "Q 12: What area of th...",
            "method": "update"
           },
           {
            "args": [
             {
              "visible": [
               false,
               false,
               false,
               false,
               false,
               false,
               false,
               false,
               false,
               false,
               false,
               false,
               false,
               true,
               false,
               false,
               false,
               false,
               false
              ]
             },
             {
              "title": "Totals for Column 14 (Which age group do you belong to?)"
             }
            ],
            "label": "Q 13: Which age group...",
            "method": "update"
           },
           {
            "args": [
             {
              "visible": [
               false,
               false,
               false,
               false,
               false,
               false,
               false,
               false,
               false,
               false,
               false,
               false,
               false,
               false,
               true,
               false,
               false,
               false,
               false
              ]
             },
             {
              "title": "Totals for Column 15 (What is your highest level of education?)"
             }
            ],
            "label": "Q 14: What is your hi...",
            "method": "update"
           },
           {
            "args": [
             {
              "visible": [
               false,
               false,
               false,
               false,
               false,
               false,
               false,
               false,
               false,
               false,
               false,
               false,
               false,
               false,
               false,
               true,
               false,
               false,
               false
              ]
             },
             {
              "title": "Totals for Column 16 (Do you see the number increasing, decreasing or staying the same over next 12 months)"
             }
            ],
            "label": "Q 15: Do you see the ...",
            "method": "update"
           },
           {
            "args": [
             {
              "visible": [
               false,
               false,
               false,
               false,
               false,
               false,
               false,
               false,
               false,
               false,
               false,
               false,
               false,
               false,
               false,
               false,
               true,
               false,
               false
              ]
             },
             {
              "title": "Totals for Column 17 (How many events does your team organise per year?)"
             }
            ],
            "label": "Q 16: How many events...",
            "method": "update"
           },
           {
            "args": [
             {
              "visible": [
               false,
               false,
               false,
               false,
               false,
               false,
               false,
               false,
               false,
               false,
               false,
               false,
               false,
               false,
               false,
               false,
               false,
               true,
               false
              ]
             },
             {
              "title": "Totals for Column 18 (On average, what is the cost per day for event freelancers)"
             }
            ],
            "label": "Q 17: On average, wha...",
            "method": "update"
           },
           {
            "args": [
             {
              "visible": [
               false,
               false,
               false,
               false,
               false,
               false,
               false,
               false,
               false,
               false,
               false,
               false,
               false,
               false,
               false,
               false,
               false,
               false,
               true
              ]
             },
             {
              "title": "Totals for Column 19 (How likely are you to recommend ICE to a friend or colleague?)"
             }
            ],
            "label": "Q 18: How likely are ...",
            "method": "update"
           }
          ],
          "direction": "down",
          "font": {
           "size": 14
          },
          "pad": {
           "b": 10,
           "l": 50,
           "r": 0,
           "t": 10
          },
          "showactive": true,
          "type": "dropdown",
          "x": 0,
          "xanchor": "left",
          "y": 1.1,
          "yanchor": "top"
         }
        ]
       }
      }
     },
     "metadata": {},
     "output_type": "display_data"
    }
   ],
   "source": [
    "import pandas as pd\n",
    "import plotly.graph_objects as go\n",
    "\n",
    "# Use all columns from the cleaned file for display\n",
    "columns_to_display = df.columns.tolist()\n",
    "\n",
    "# Create an empty figure\n",
    "fig = go.Figure()\n",
    "\n",
    "# Add pie charts for each column, but make all but the first one invisible\n",
    "for i, column in enumerate(columns_to_display):\n",
    "    # Get the value counts for the current column\n",
    "    value_counts = df[column].value_counts()\n",
    "\n",
    "    # Replace any answers that are selected only once with 'Other'\n",
    "    value_counts = value_counts.where(value_counts > 1, other='Other').groupby(level=0).sum()\n",
    "\n",
    "    # Conditionally set the showlegend property (hide legend if more than 5 unique entries)\n",
    "    show_legend = len(value_counts.index) <= 5\n",
    "\n",
    "    # Create a pie chart for this column with improved hover template and conditional legend\n",
    "    fig.add_trace(go.Pie(\n",
    "        labels=value_counts.index,  # Unique answers (including 'Other' if applicable)\n",
    "        values=value_counts.values,  # Counts of each unique answer\n",
    "        visible=(i == 0),  # Make the first column's pie chart visible by default\n",
    "        name=column,\n",
    "        hole=0.3,  # Optional: add a hole in the pie chart (donut style)\n",
    "        pull=[0.05] * len(value_counts),  # Slightly pull slices apart for visual distinction\n",
    "        showlegend=show_legend,  # Conditionally show legend\n",
    "        hoverinfo='label+percent+value',  # Show label, percentage, and actual value on hover\n",
    "        hovertemplate=\"<b>%{label}</b><br>Count: %{value}<br>Percent: %{percent:.2%}<extra></extra>\"  # Improved hover formatting\n",
    "    ))\n",
    "\n",
    "# Create the dropdown menu options with shorter titles if needed\n",
    "dropdown_buttons = [\n",
    "    {\n",
    "        'label': f\"Q {i}: \" + (col[:15] + '...' if len(col) > 15 else col),  # Show column number and name\n",
    "        'method': 'update',\n",
    "        'args': [{'visible': [j == i for j in range(len(columns_to_display))]},  # Set visibility based on the selected column\n",
    "                 {'title': f'Totals for Column {i + 1} ({col})'}],  # Add column number in the title\n",
    "    }\n",
    "    for i, col in enumerate(columns_to_display)\n",
    "]\n",
    "\n",
    "# Update the layout to include the dropdown menu and improve the layout\n",
    "fig.update_layout(\n",
    "    updatemenus=[{\n",
    "        'buttons': dropdown_buttons,\n",
    "        'direction': 'down',\n",
    "        'showactive': True,\n",
    "        'x': 0,  # Align the dropdown with the left\n",
    "        'xanchor': 'left',\n",
    "        'y': 1.1,  # Position it below the title\n",
    "        'yanchor': 'top',\n",
    "        'pad': {'l': 50, 'r': 0, 't': 10, 'b': 10},  # Remove extra padding to make it full width\n",
    "        'font': {'size': 14},  # Adjust font size for the dropdown\n",
    "        'type': 'dropdown',  # Ensure it's a dropdown\n",
    "        'bgcolor': 'lightgrey',  # Optional: change dropdown background for better visibility\n",
    "    }],\n",
    "    title_text=f'Totals for Column 0 ({columns_to_display[0]})',  # Initial title for the first pie chart\n",
    "    title_x=0.5,  # Center the title\n",
    "    title_xanchor='center',\n",
    "    titlefont_size=20,\n",
    "    margin=dict(t=120, b=100, l=0, r=0),  # Add more margin to make space for dropdown\n",
    "    height=700,  # Adjust height of the figure\n",
    "    legend=dict(orientation=\"h\",  # Move the legend to the bottom\n",
    "                yanchor=\"bottom\",\n",
    "                y=-0.2,  # Adjust legend position if needed\n",
    "                xanchor=\"center\",\n",
    "                x=0.5),\n",
    "    transition=dict(duration=2000, easing='bounce-in-out'),  # Set longer animation and ease-in-out\n",
    ")\n",
    "\n",
    "\n",
    "# Show the figure\n",
    "fig.show()"
   ]
  },
  {
   "cell_type": "code",
   "execution_count": 7,
   "metadata": {},
   "outputs": [],
   "source": [
    "fig.write_html(\"../to_share/client_question_finding_v1.html\")"
   ]
  }
 ],
 "metadata": {
  "kernelspec": {
   "display_name": "venv",
   "language": "python",
   "name": "python3"
  },
  "language_info": {
   "codemirror_mode": {
    "name": "ipython",
    "version": 3
   },
   "file_extension": ".py",
   "mimetype": "text/x-python",
   "name": "python",
   "nbconvert_exporter": "python",
   "pygments_lexer": "ipython3",
   "version": "3.12.4"
  }
 },
 "nbformat": 4,
 "nbformat_minor": 2
}
